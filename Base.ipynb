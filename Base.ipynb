{
 "cells": [
  {
   "cell_type": "code",
   "execution_count": 149,
   "id": "bcd88d79-71c5-405f-8267-07626a5988d8",
   "metadata": {
    "tags": []
   },
   "outputs": [],
   "source": [
    "import pandas as pd\n",
    "import numpy as np"
   ]
  },
  {
   "cell_type": "markdown",
   "id": "3ed1adde-599b-47fa-a83b-ce6058575be7",
   "metadata": {
    "tags": []
   },
   "source": [
    "\n",
    "<div style=\"background-color: rgba(255, 255, 0, 0.25); color: black; padding: 10px;\">\n",
    "    <h1>Functions</h1>\n",
    "</div>\n"
   ]
  },
  {
   "cell_type": "code",
   "execution_count": 496,
   "id": "098a0cc8-b1c5-4e37-a6e5-8b5047404e18",
   "metadata": {
    "tags": []
   },
   "outputs": [],
   "source": [
    "def format_number(val):  \n",
    "    if isinstance(val, (int, float)):\n",
    "        return f\"{val:.1f}\"\n",
    "    return val\n",
    "\n",
    "def get_desc(df):\n",
    "    result_table = pd.DataFrame(df.dtypes, columns=['data type'])\n",
    "    result_table['#missing'] = df.isnull().sum().values\n",
    "    result_table['%missing'] = np.round(df.isnull().sum().values / len(df) * 100, 1)\n",
    "    result_table['#unique'] = df.nunique().values\n",
    "    \n",
    "    desc = pd.DataFrame(df.describe(include='all', percentiles=[0.01, 0.1, 0.2, 0.3, 0.4, 0.5, 0.6, 0.7, 0.8, 0.9, 0.99]).transpose())\n",
    "    \n",
    "    for percentile in ['min', 'max', '1%', '10%', '20%', '30%', '40%', '50%', '60%', '70%', '80%', '90%', '99%']:  \n",
    "        result_table[percentile] = desc[percentile].apply(format_number).values\n",
    "        \n",
    "    return result_table"
   ]
  },
  {
   "cell_type": "code",
   "execution_count": 455,
   "id": "a7ffe940-96fd-4fa8-9d0b-f63bfcc013a2",
   "metadata": {
    "tags": []
   },
   "outputs": [],
   "source": [
    "from category_encoders import TargetEncoder, BinaryEncoder\n",
    "from sklearn.preprocessing import OneHotEncoder, LabelEncoder\n",
    "import pandas as pd\n",
    "\n",
    "\n",
    "def encode(X_train, y_train, X_test, categorical_features, encoder_type):\n",
    "    if encoder_type == 'target':\n",
    "        encoder = TargetEncoder(cols=categorical_features)\n",
    "        X_train_encoded = encoder.fit_transform(X_train, y_train)\n",
    "        X_test_encoded = encoder.transform(X_test)\n",
    "        \n",
    "    elif encoder_type == 'onehot':\n",
    "        encoder = OneHotEncoder(handle_unknown='ignore', sparse=False)\n",
    "        X_train_categorical = encoder.fit_transform(X_train[categorical_features])\n",
    "        X_test_categorical = encoder.transform(X_test[categorical_features])\n",
    "        \n",
    "        X_train_categorical = pd.DataFrame(X_train_categorical, index=X_train.index, columns=encoder.get_feature_names(categorical_features))\n",
    "        X_test_categorical = pd.DataFrame(X_test_categorical, index=X_test.index, columns=encoder.get_feature_names(categorical_features))\n",
    "        \n",
    "        X_train_encoded = pd.concat([X_train.drop(columns=categorical_features), X_train_categorical], axis=1)\n",
    "        X_test_encoded = pd.concat([X_test.drop(columns=categorical_features), X_test_categorical], axis=1)\n",
    "    \n",
    "    elif encoder_type == 'label':\n",
    "        encoder = LabelEncoder()\n",
    "        X_train_encoded = X_train.copy()\n",
    "        X_test_encoded = X_test.copy()\n",
    "\n",
    "        for feature in categorical_features:\n",
    "            combined = pd.concat([X_train[feature], X_test[feature]], axis=0)\n",
    "            encoder.fit(combined)\n",
    "            X_train_encoded[feature] = encoder.fit_transform(X_train[feature])\n",
    "            X_test_encoded[feature] = encoder.fit_transform(X_test[feature])\n",
    "        \n",
    "    elif encoder_type == 'binary':\n",
    "        encoder = BinaryEncoder(cols=categorical_features)\n",
    "        X_train_encoded = encoder.fit_transform(X_train)\n",
    "        X_test_encoded = encoder.transform(X_test)\n",
    "        \n",
    "    elif encoder_type == 'frequency':\n",
    "        X_train_encoded = X_train.copy()\n",
    "        X_test_encoded = X_test.copy()\n",
    "        for feature in categorical_features:\n",
    "            freq = X_train[feature].value_counts() / len(X_train)\n",
    "            X_train_encoded[feature] = X_train[feature].map(freq)\n",
    "            X_test_encoded[feature] = X_test[feature].map(freq).fillna(0)\n",
    "        \n",
    "    else:\n",
    "        print('Неверное название кодировщика')\n",
    "        return None, None, None\n",
    "    \n",
    "    return X_train_encoded, X_test_encoded\n"
   ]
  },
  {
   "cell_type": "code",
   "execution_count": 456,
   "id": "054c34a9-3c96-4fd7-a90e-ea5ff1657b14",
   "metadata": {
    "tags": []
   },
   "outputs": [],
   "source": [
    "from sklearn.preprocessing import StandardScaler, MinMaxScaler, MaxAbsScaler\n",
    "\n",
    "def converter(df, features_to_convert, method='standard'):\n",
    "    df_normalized = df.copy()\n",
    "    \n",
    "    if method == 'standard':\n",
    "        scaler = StandardScaler()\n",
    "    elif method == 'minmax':\n",
    "        scaler = MinMaxScaler()\n",
    "    elif method == 'maxabs':\n",
    "        scaler = MaxAbsScaler()\n",
    "    elif method == 'log':\n",
    "        scaler = None\n",
    "        df_normalized[features_to_convert] = np.sign(df[features_to_convert]) * np.log(np.abs(df[features_to_convert]+0.000001))\n",
    "        return df_normalized\n",
    "    elif method == 'sqrt':\n",
    "        scaler = None\n",
    "        df_normalized[features_to_convert] = np.sqrt(df[features_to_convert])\n",
    "        return df_normalized\n",
    "    elif method == 'recip':\n",
    "        scaler = None\n",
    "        df_normalized[features_to_convert] = np.reciprocal(df[features_to_convert])\n",
    "        return df_normalized    \n",
    "    \n",
    "    else:\n",
    "        print('Неизвестный метод нормализации')\n",
    "        return None, None\n",
    "    \n",
    "    df_normalized[features_to_convert] = scaler.fit_transform(df[features_to_convert])\n",
    "   \n",
    "    return df_normalized"
   ]
  },
  {
   "cell_type": "code",
   "execution_count": 457,
   "id": "ce36939c-b774-4f05-a5d9-f9666f46ae81",
   "metadata": {
    "tags": []
   },
   "outputs": [],
   "source": [
    "import scipy.stats as stats  \n",
    "from scipy.stats import probplot\n",
    "\n",
    "def convert(df,numeric_features):  \n",
    "    r2_scores = pd.DataFrame()  \n",
    "    \n",
    "    for feature in numeric_features:  \n",
    "        orig = df[feature].dropna()  \n",
    "        \n",
    "        R_orig = probplot(orig, rvalue=True)[1][2]**2  \n",
    "        R_log =probplot(np.sign(orig)*np.log(np.abs(orig+0.00000001)), rvalue=True)[1][2]**2  \n",
    "        R_sqrt = probplot(np.sqrt(orig), rvalue=True)[1][2]**2  \n",
    "        R_reci = probplot(np.reciprocal(orig), rvalue=True)[1][2]**2  \n",
    "        #R_boxcox = probplot(stats.boxcox(orig)[0], rvalue=True)[1][2]**2  \n",
    "        R_yeojohn = probplot(stats.yeojohnson(orig)[0], rvalue=True)[1][2]**2  \n",
    "        \n",
    "        d = pd.DataFrame({  \n",
    "        'Original': [R_orig],  \n",
    "        'Log': [R_log],  \n",
    "        'Sqrt': [R_sqrt],  \n",
    "        'Reciprocal': [R_reci],  # функции обратной величины\n",
    "        #'BoxCox': [R_boxcox],  \n",
    "        #'YeoJohnson': [R_yeojohn]  \n",
    "        }, index=[feature])  \n",
    "            \n",
    "        r2_scores = pd.concat([r2_scores, d], axis=0)  \n",
    "        \n",
    "    r2_scores[\"Winner\"] = r2_scores.idxmax(axis=1)  \n",
    "    return r2_scores"
   ]
  },
  {
   "cell_type": "code",
   "execution_count": 624,
   "id": "9025629a-0791-44d0-a5e9-5b6e0bd9be2b",
   "metadata": {
    "tags": []
   },
   "outputs": [],
   "source": [
    "def valuation (model, X_test,y_test, threshold = 0.5):\n",
    "    y_pred_proba = model.predict_proba(X_test)[:, 1]\n",
    "    y_pred_threshold = np.where(y_pred_proba >= threshold, 1, 0)\n",
    "\n",
    "    # Расчет метрик\n",
    "    precision = precision_score(y_test, y_pred_threshold)\n",
    "    recall = recall_score(y_test, y_pred_threshold)\n",
    "    roc_auc = roc_auc_score(y_test, y_pred_proba)\n",
    "    print(\"Порог:\", threshold)\n",
    "    print(\"Precision:\", precision)\n",
    "    print(\"Recall:\", recall)\n",
    "    print(\"ROC AUC:\", roc_auc)\n",
    "\n",
    "from sklearn.metrics import mean_squared_error, mean_absolute_error, r2_score\n",
    "\n",
    "\n",
    "def valuation_r (model, X_test, y_test):\n",
    "    y_pred = model.predict(X_test)\n",
    "    mse = mean_squared_error(y_test, y_pred)\n",
    "    rmse = np.sqrt(mse)\n",
    "    mae = mean_absolute_error(y_test, y_pred)\n",
    "    r2 = r2_score(y_test, y_pred)\n",
    "    \n",
    "    print(f\"MSE: {mse}\")\n",
    "    print(f\"RMSE: {rmse}\")\n",
    "    print(f\"MAE: {mae}\")\n",
    "    print(f\"R²: {r2}\")"
   ]
  },
  {
   "cell_type": "markdown",
   "id": "05ced8ca-2530-4d33-bddf-6fa326e4097b",
   "metadata": {
    "tags": []
   },
   "source": [
    "<div style=\"background-color: rgba(255, 255, 0, 0.25); color: black; padding: 10px;\">\n",
    "    <h1>Charts</h1>\n",
    "</div>\n"
   ]
  },
  {
   "cell_type": "code",
   "execution_count": 671,
   "id": "b34d708d-c170-4ff6-a289-d3d0fd5af3aa",
   "metadata": {
    "tags": []
   },
   "outputs": [],
   "source": [
    "import matplotlib.pyplot as plt\n",
    "import seaborn as sns\n",
    "import scipy.stats as stats\n",
    "\n",
    "\n",
    "\n",
    "def chart_result_analysis (model, X_test, y_test):\n",
    "   \n",
    "    # Предсказания модели\n",
    "    y_pred = model.predict(X_test)\n",
    "    # Вычисление остатков\n",
    "    residuals = y_test - y_pred\n",
    "\n",
    "    # График предсказаний. Идеальный - точно следует за линией. Где отклоняется в тех значениях таргета ошибается.\n",
    "    plt.figure(figsize=(10, 6))\n",
    "    plt.scatter(y_test, y_pred, alpha=0.5, label='Предсказанные значения')\n",
    "    plt.plot([y_test.min(), y_test.max()], [y_test.min(), y_test.max()], 'r--', lw=2, label='Идеальная линия')\n",
    "    plt.xlabel('Фактические значения')\n",
    "    plt.ylabel('Предсказанные значения')\n",
    "    plt.title('Сравнение фактических и предсказанных значений')\n",
    "    plt.legend()\n",
    "    plt.show()\n",
    "\n",
    "\n",
    "    # График поведения остатков. Идеально когда остатки близки к нулю и равномерно распределены выши и ниже без выбросов.\n",
    "    # График должен быть без существенных выбросов в форме колокола. Есть выбросы - значит выбросы влияют. \n",
    "    plt.figure(figsize=(10, 6))\n",
    "    plt.scatter(y_pred, residuals, alpha=0.5)\n",
    "    plt.axhline(0, color='red', linestyle='--')\n",
    "    plt.xlabel('Предсказанные значения')\n",
    "    plt.ylabel('Остатки')\n",
    "    plt.title('График остатков против предсказанных значений')\n",
    "    plt.show()\n",
    "\n",
    "\n",
    "    # Q-Q график для оценки нормальности остатков\n",
    "    plt.figure(figsize=(10, 6))\n",
    "    stats.probplot(residuals, dist=\"norm\", plot=plt)\n",
    "    plt.title('Q-Q график остатков')\n",
    "    plt.show()"
   ]
  },
  {
   "cell_type": "markdown",
   "id": "d190134e-0bbb-4429-aa49-6f28c840b419",
   "metadata": {
    "tags": []
   },
   "source": [
    "# Classification"
   ]
  },
  {
   "cell_type": "code",
   "execution_count": 527,
   "id": "748af878-a97f-44da-aa91-1f551d74ba6d",
   "metadata": {
    "tags": []
   },
   "outputs": [],
   "source": [
    "data = pd.read_csv( './Other/baselines/ds_salaries.csv', sep= ',')\n",
    "data['target'] = -1\n",
    "data.loc[data.company_size=='S','target'] = 1\n",
    "data.loc[data.company_size=='M','target'] = 0\n",
    "data.loc[data.company_size=='L','target'] = 0\n",
    "data.drop(['salary','salary_currency','company_size'], inplace = True, axis =1)\n",
    "df = data.copy()"
   ]
  },
  {
   "cell_type": "code",
   "execution_count": 519,
   "id": "dd02763b-e670-4183-9e8e-819fa3159a7a",
   "metadata": {
    "tags": []
   },
   "outputs": [
    {
     "data": {
      "text/html": [
       "<div>\n",
       "<style scoped>\n",
       "    .dataframe tbody tr th:only-of-type {\n",
       "        vertical-align: middle;\n",
       "    }\n",
       "\n",
       "    .dataframe tbody tr th {\n",
       "        vertical-align: top;\n",
       "    }\n",
       "\n",
       "    .dataframe thead th {\n",
       "        text-align: right;\n",
       "    }\n",
       "</style>\n",
       "<table border=\"1\" class=\"dataframe\">\n",
       "  <thead>\n",
       "    <tr style=\"text-align: right;\">\n",
       "      <th></th>\n",
       "      <th>data type</th>\n",
       "      <th>#missing</th>\n",
       "      <th>%missing</th>\n",
       "      <th>#unique</th>\n",
       "      <th>min</th>\n",
       "      <th>max</th>\n",
       "      <th>1%</th>\n",
       "      <th>10%</th>\n",
       "      <th>20%</th>\n",
       "      <th>30%</th>\n",
       "      <th>40%</th>\n",
       "      <th>50%</th>\n",
       "      <th>60%</th>\n",
       "      <th>70%</th>\n",
       "      <th>80%</th>\n",
       "      <th>90%</th>\n",
       "      <th>99%</th>\n",
       "    </tr>\n",
       "  </thead>\n",
       "  <tbody>\n",
       "    <tr>\n",
       "      <th>work_year</th>\n",
       "      <td>int64</td>\n",
       "      <td>0</td>\n",
       "      <td>0.0</td>\n",
       "      <td>4</td>\n",
       "      <td>2020.0</td>\n",
       "      <td>2023.0</td>\n",
       "      <td>2020.0</td>\n",
       "      <td>2022.0</td>\n",
       "      <td>2022.0</td>\n",
       "      <td>2022.0</td>\n",
       "      <td>2022.0</td>\n",
       "      <td>2022.0</td>\n",
       "      <td>2023.0</td>\n",
       "      <td>2023.0</td>\n",
       "      <td>2023.0</td>\n",
       "      <td>2023.0</td>\n",
       "      <td>2023.0</td>\n",
       "    </tr>\n",
       "    <tr>\n",
       "      <th>experience_level</th>\n",
       "      <td>object</td>\n",
       "      <td>0</td>\n",
       "      <td>0.0</td>\n",
       "      <td>4</td>\n",
       "      <td>nan</td>\n",
       "      <td>nan</td>\n",
       "      <td>nan</td>\n",
       "      <td>nan</td>\n",
       "      <td>nan</td>\n",
       "      <td>nan</td>\n",
       "      <td>nan</td>\n",
       "      <td>nan</td>\n",
       "      <td>nan</td>\n",
       "      <td>nan</td>\n",
       "      <td>nan</td>\n",
       "      <td>nan</td>\n",
       "      <td>nan</td>\n",
       "    </tr>\n",
       "    <tr>\n",
       "      <th>employment_type</th>\n",
       "      <td>object</td>\n",
       "      <td>0</td>\n",
       "      <td>0.0</td>\n",
       "      <td>4</td>\n",
       "      <td>nan</td>\n",
       "      <td>nan</td>\n",
       "      <td>nan</td>\n",
       "      <td>nan</td>\n",
       "      <td>nan</td>\n",
       "      <td>nan</td>\n",
       "      <td>nan</td>\n",
       "      <td>nan</td>\n",
       "      <td>nan</td>\n",
       "      <td>nan</td>\n",
       "      <td>nan</td>\n",
       "      <td>nan</td>\n",
       "      <td>nan</td>\n",
       "    </tr>\n",
       "    <tr>\n",
       "      <th>job_title</th>\n",
       "      <td>object</td>\n",
       "      <td>0</td>\n",
       "      <td>0.0</td>\n",
       "      <td>93</td>\n",
       "      <td>nan</td>\n",
       "      <td>nan</td>\n",
       "      <td>nan</td>\n",
       "      <td>nan</td>\n",
       "      <td>nan</td>\n",
       "      <td>nan</td>\n",
       "      <td>nan</td>\n",
       "      <td>nan</td>\n",
       "      <td>nan</td>\n",
       "      <td>nan</td>\n",
       "      <td>nan</td>\n",
       "      <td>nan</td>\n",
       "      <td>nan</td>\n",
       "    </tr>\n",
       "    <tr>\n",
       "      <th>salary_in_usd</th>\n",
       "      <td>int64</td>\n",
       "      <td>0</td>\n",
       "      <td>0.0</td>\n",
       "      <td>1035</td>\n",
       "      <td>5132.0</td>\n",
       "      <td>450000.0</td>\n",
       "      <td>12826.4</td>\n",
       "      <td>59537.0</td>\n",
       "      <td>83972.8</td>\n",
       "      <td>104000.0</td>\n",
       "      <td>120000.0</td>\n",
       "      <td>135000.0</td>\n",
       "      <td>149850.0</td>\n",
       "      <td>165000.0</td>\n",
       "      <td>185900.0</td>\n",
       "      <td>219000.0</td>\n",
       "      <td>309400.0</td>\n",
       "    </tr>\n",
       "    <tr>\n",
       "      <th>employee_residence</th>\n",
       "      <td>object</td>\n",
       "      <td>0</td>\n",
       "      <td>0.0</td>\n",
       "      <td>78</td>\n",
       "      <td>nan</td>\n",
       "      <td>nan</td>\n",
       "      <td>nan</td>\n",
       "      <td>nan</td>\n",
       "      <td>nan</td>\n",
       "      <td>nan</td>\n",
       "      <td>nan</td>\n",
       "      <td>nan</td>\n",
       "      <td>nan</td>\n",
       "      <td>nan</td>\n",
       "      <td>nan</td>\n",
       "      <td>nan</td>\n",
       "      <td>nan</td>\n",
       "    </tr>\n",
       "    <tr>\n",
       "      <th>remote_ratio</th>\n",
       "      <td>int64</td>\n",
       "      <td>0</td>\n",
       "      <td>0.0</td>\n",
       "      <td>3</td>\n",
       "      <td>0.0</td>\n",
       "      <td>100.0</td>\n",
       "      <td>0.0</td>\n",
       "      <td>0.0</td>\n",
       "      <td>0.0</td>\n",
       "      <td>0.0</td>\n",
       "      <td>0.0</td>\n",
       "      <td>0.0</td>\n",
       "      <td>100.0</td>\n",
       "      <td>100.0</td>\n",
       "      <td>100.0</td>\n",
       "      <td>100.0</td>\n",
       "      <td>100.0</td>\n",
       "    </tr>\n",
       "    <tr>\n",
       "      <th>company_location</th>\n",
       "      <td>object</td>\n",
       "      <td>0</td>\n",
       "      <td>0.0</td>\n",
       "      <td>72</td>\n",
       "      <td>nan</td>\n",
       "      <td>nan</td>\n",
       "      <td>nan</td>\n",
       "      <td>nan</td>\n",
       "      <td>nan</td>\n",
       "      <td>nan</td>\n",
       "      <td>nan</td>\n",
       "      <td>nan</td>\n",
       "      <td>nan</td>\n",
       "      <td>nan</td>\n",
       "      <td>nan</td>\n",
       "      <td>nan</td>\n",
       "      <td>nan</td>\n",
       "    </tr>\n",
       "    <tr>\n",
       "      <th>target</th>\n",
       "      <td>int64</td>\n",
       "      <td>0</td>\n",
       "      <td>0.0</td>\n",
       "      <td>2</td>\n",
       "      <td>0.0</td>\n",
       "      <td>1.0</td>\n",
       "      <td>0.0</td>\n",
       "      <td>0.0</td>\n",
       "      <td>0.0</td>\n",
       "      <td>0.0</td>\n",
       "      <td>0.0</td>\n",
       "      <td>0.0</td>\n",
       "      <td>0.0</td>\n",
       "      <td>0.0</td>\n",
       "      <td>0.0</td>\n",
       "      <td>0.0</td>\n",
       "      <td>1.0</td>\n",
       "    </tr>\n",
       "  </tbody>\n",
       "</table>\n",
       "</div>"
      ],
      "text/plain": [
       "                   data type  #missing  %missing  #unique     min       max  \\\n",
       "work_year              int64         0       0.0        4  2020.0    2023.0   \n",
       "experience_level      object         0       0.0        4     nan       nan   \n",
       "employment_type       object         0       0.0        4     nan       nan   \n",
       "job_title             object         0       0.0       93     nan       nan   \n",
       "salary_in_usd          int64         0       0.0     1035  5132.0  450000.0   \n",
       "employee_residence    object         0       0.0       78     nan       nan   \n",
       "remote_ratio           int64         0       0.0        3     0.0     100.0   \n",
       "company_location      object         0       0.0       72     nan       nan   \n",
       "target                 int64         0       0.0        2     0.0       1.0   \n",
       "\n",
       "                         1%      10%      20%       30%       40%       50%  \\\n",
       "work_year            2020.0   2022.0   2022.0    2022.0    2022.0    2022.0   \n",
       "experience_level        nan      nan      nan       nan       nan       nan   \n",
       "employment_type         nan      nan      nan       nan       nan       nan   \n",
       "job_title               nan      nan      nan       nan       nan       nan   \n",
       "salary_in_usd       12826.4  59537.0  83972.8  104000.0  120000.0  135000.0   \n",
       "employee_residence      nan      nan      nan       nan       nan       nan   \n",
       "remote_ratio            0.0      0.0      0.0       0.0       0.0       0.0   \n",
       "company_location        nan      nan      nan       nan       nan       nan   \n",
       "target                  0.0      0.0      0.0       0.0       0.0       0.0   \n",
       "\n",
       "                         60%       70%       80%       90%       99%  \n",
       "work_year             2023.0    2023.0    2023.0    2023.0    2023.0  \n",
       "experience_level         nan       nan       nan       nan       nan  \n",
       "employment_type          nan       nan       nan       nan       nan  \n",
       "job_title                nan       nan       nan       nan       nan  \n",
       "salary_in_usd       149850.0  165000.0  185900.0  219000.0  309400.0  \n",
       "employee_residence       nan       nan       nan       nan       nan  \n",
       "remote_ratio           100.0     100.0     100.0     100.0     100.0  \n",
       "company_location         nan       nan       nan       nan       nan  \n",
       "target                   0.0       0.0       0.0       0.0       1.0  "
      ]
     },
     "execution_count": 519,
     "metadata": {},
     "output_type": "execute_result"
    }
   ],
   "source": [
    "get_desc(df)"
   ]
  },
  {
   "cell_type": "markdown",
   "id": "84c88e22-33df-4fe2-ab11-f3ad87bf90ca",
   "metadata": {
    "tags": []
   },
   "source": [
    "<div style=\"background-color: rgba(255, 255, 0, 0.1); color: black; padding: 10px;\">\n",
    "    <h2>Linear</h2>\n",
    "</div>"
   ]
  },
  {
   "cell_type": "code",
   "execution_count": 520,
   "id": "e1a4d6b1-9cf3-4e28-8233-69d0d1c847a9",
   "metadata": {
    "tags": []
   },
   "outputs": [],
   "source": [
    "import pandas as pd\n",
    "from sklearn.model_selection import train_test_split\n",
    "from sklearn.linear_model import LogisticRegression\n",
    "from sklearn.metrics import accuracy_score\n",
    "from sklearn.metrics import precision_score, recall_score, roc_auc_score"
   ]
  },
  {
   "cell_type": "code",
   "execution_count": null,
   "id": "e38e1d3a-8659-46a3-89ca-e3726a716cab",
   "metadata": {
    "tags": []
   },
   "outputs": [],
   "source": [
    "categorical_features = list(df.select_dtypes(include=['object']).columns)\n",
    "numeric_features = list(set(df.columns) - (set(categorical_features) | set(['target'])))\n",
    "\n",
    "# qq для определения преобразующей функци\n",
    "qq_check = convert(df,numeric_features)\n",
    "\n",
    "# преобразования\n",
    "df_tmp = converter(df, ['salary_in_usd'], method='sqrt')\n",
    "df = converter(df_tmp, numeric_features, method='standard')\n",
    "\n",
    "# разделение и конвертация\n",
    "X = df.drop('target', axis=1)\n",
    "y = df['target']\n",
    "X_train, X_test, y_train, y_test = train_test_split(X, y, test_size=0.2, random_state=42, stratify = y)\n",
    "\n",
    "X_train_encoded, X_test_encoded =  encode(X_train, y_train, X_test, categorical_features, 'onehot')"
   ]
  },
  {
   "cell_type": "markdown",
   "id": "1c67283e-ad34-4e83-9d0e-25def443308d",
   "metadata": {
    "tags": []
   },
   "source": [
    "### Модель"
   ]
  },
  {
   "cell_type": "code",
   "execution_count": 522,
   "id": "4e918b6c-ceda-46ef-8c88-71de82031d6f",
   "metadata": {
    "tags": []
   },
   "outputs": [
    {
     "name": "stdout",
     "output_type": "stream",
     "text": [
      "[Parallel(n_jobs=1)]: Using backend SequentialBackend with 1 concurrent workers.\n",
      "[Parallel(n_jobs=1)]: Done   1 out of   1 | elapsed:    0.1s remaining:    0.0s\n",
      "[Parallel(n_jobs=1)]: Done   1 out of   1 | elapsed:    0.1s finished\n"
     ]
    },
    {
     "data": {
      "text/html": [
       "<style>#sk-container-id-62 {color: black;background-color: white;}#sk-container-id-62 pre{padding: 0;}#sk-container-id-62 div.sk-toggleable {background-color: white;}#sk-container-id-62 label.sk-toggleable__label {cursor: pointer;display: block;width: 100%;margin-bottom: 0;padding: 0.3em;box-sizing: border-box;text-align: center;}#sk-container-id-62 label.sk-toggleable__label-arrow:before {content: \"▸\";float: left;margin-right: 0.25em;color: #696969;}#sk-container-id-62 label.sk-toggleable__label-arrow:hover:before {color: black;}#sk-container-id-62 div.sk-estimator:hover label.sk-toggleable__label-arrow:before {color: black;}#sk-container-id-62 div.sk-toggleable__content {max-height: 0;max-width: 0;overflow: hidden;text-align: left;background-color: #f0f8ff;}#sk-container-id-62 div.sk-toggleable__content pre {margin: 0.2em;color: black;border-radius: 0.25em;background-color: #f0f8ff;}#sk-container-id-62 input.sk-toggleable__control:checked~div.sk-toggleable__content {max-height: 200px;max-width: 100%;overflow: auto;}#sk-container-id-62 input.sk-toggleable__control:checked~label.sk-toggleable__label-arrow:before {content: \"▾\";}#sk-container-id-62 div.sk-estimator input.sk-toggleable__control:checked~label.sk-toggleable__label {background-color: #d4ebff;}#sk-container-id-62 div.sk-label input.sk-toggleable__control:checked~label.sk-toggleable__label {background-color: #d4ebff;}#sk-container-id-62 input.sk-hidden--visually {border: 0;clip: rect(1px 1px 1px 1px);clip: rect(1px, 1px, 1px, 1px);height: 1px;margin: -1px;overflow: hidden;padding: 0;position: absolute;width: 1px;}#sk-container-id-62 div.sk-estimator {font-family: monospace;background-color: #f0f8ff;border: 1px dotted black;border-radius: 0.25em;box-sizing: border-box;margin-bottom: 0.5em;}#sk-container-id-62 div.sk-estimator:hover {background-color: #d4ebff;}#sk-container-id-62 div.sk-parallel-item::after {content: \"\";width: 100%;border-bottom: 1px solid gray;flex-grow: 1;}#sk-container-id-62 div.sk-label:hover label.sk-toggleable__label {background-color: #d4ebff;}#sk-container-id-62 div.sk-serial::before {content: \"\";position: absolute;border-left: 1px solid gray;box-sizing: border-box;top: 0;bottom: 0;left: 50%;z-index: 0;}#sk-container-id-62 div.sk-serial {display: flex;flex-direction: column;align-items: center;background-color: white;padding-right: 0.2em;padding-left: 0.2em;position: relative;}#sk-container-id-62 div.sk-item {position: relative;z-index: 1;}#sk-container-id-62 div.sk-parallel {display: flex;align-items: stretch;justify-content: center;background-color: white;position: relative;}#sk-container-id-62 div.sk-item::before, #sk-container-id-62 div.sk-parallel-item::before {content: \"\";position: absolute;border-left: 1px solid gray;box-sizing: border-box;top: 0;bottom: 0;left: 50%;z-index: -1;}#sk-container-id-62 div.sk-parallel-item {display: flex;flex-direction: column;z-index: 1;position: relative;background-color: white;}#sk-container-id-62 div.sk-parallel-item:first-child::after {align-self: flex-end;width: 50%;}#sk-container-id-62 div.sk-parallel-item:last-child::after {align-self: flex-start;width: 50%;}#sk-container-id-62 div.sk-parallel-item:only-child::after {width: 0;}#sk-container-id-62 div.sk-dashed-wrapped {border: 1px dashed gray;margin: 0 0.4em 0.5em 0.4em;box-sizing: border-box;padding-bottom: 0.4em;background-color: white;}#sk-container-id-62 div.sk-label label {font-family: monospace;font-weight: bold;display: inline-block;line-height: 1.2em;}#sk-container-id-62 div.sk-label-container {text-align: center;}#sk-container-id-62 div.sk-container {/* jupyter's `normalize.less` sets `[hidden] { display: none; }` but bootstrap.min.css set `[hidden] { display: none !important; }` so we also need the `!important` here to be able to override the default hidden behavior on the sphinx rendered scikit-learn.org. See: https://github.com/scikit-learn/scikit-learn/issues/21755 */display: inline-block !important;position: relative;}#sk-container-id-62 div.sk-text-repr-fallback {display: none;}</style><div id=\"sk-container-id-62\" class=\"sk-top-container\"><div class=\"sk-text-repr-fallback\"><pre>LogisticRegression(class_weight={0: 0.5, 1: 0.5}, max_iter=500, random_state=42,\n",
       "                   solver=&#x27;newton-cg&#x27;, verbose=100)</pre><b>In a Jupyter environment, please rerun this cell to show the HTML representation or trust the notebook. <br />On GitHub, the HTML representation is unable to render, please try loading this page with nbviewer.org.</b></div><div class=\"sk-container\" hidden><div class=\"sk-item\"><div class=\"sk-estimator sk-toggleable\"><input class=\"sk-toggleable__control sk-hidden--visually\" id=\"sk-estimator-id-62\" type=\"checkbox\" checked><label for=\"sk-estimator-id-62\" class=\"sk-toggleable__label sk-toggleable__label-arrow\">LogisticRegression</label><div class=\"sk-toggleable__content\"><pre>LogisticRegression(class_weight={0: 0.5, 1: 0.5}, max_iter=500, random_state=42,\n",
       "                   solver=&#x27;newton-cg&#x27;, verbose=100)</pre></div></div></div></div></div>"
      ],
      "text/plain": [
       "LogisticRegression(class_weight={0: 0.5, 1: 0.5}, max_iter=500, random_state=42,\n",
       "                   solver='newton-cg', verbose=100)"
      ]
     },
     "execution_count": 522,
     "metadata": {},
     "output_type": "execute_result"
    }
   ],
   "source": [
    "model = LogisticRegression()\n",
    "model.fit(X_train_encoded, y_train)\n",
    "\n",
    "params = {\n",
    "    'penalty': 'l2', #Регуляризация (тип штрафа за высокий вес)     l1, l2, elasticnet\n",
    "    'tol': 1e-4, # порог для остановки алгоритма. Если измеFнения ф-потерь меньшем указаного\n",
    "    'C': 1.0, # #Регуляризация сила [0.01,0.1,1,10] Чем меньше, тем больше сила\n",
    "    'fit_intercept': True, # стоит ли добавлять свободный член\n",
    "    'class_weight': {0:0.5, 1:0.5}, # none, balance \n",
    "    'random_state': 42,\n",
    "    'solver': 'newton-cg', # liblinear, lbfgs, newton-cg, sag, saga\n",
    "     'max_iter': 500, #число итерация градиентного спуска\n",
    "    'multi_class': 'auto',\n",
    "    'verbose': 100\n",
    "}\n",
    "\n",
    "# Инициализация и обучение модели логистической регрессии с указанными гиперпараметрами\n",
    "model = LogisticRegression(**params)\n",
    "model.fit(X_train_encoded, y_train)"
   ]
  },
  {
   "cell_type": "code",
   "execution_count": 525,
   "id": "b9ffe7bc-ac73-4325-bdd2-288239344bba",
   "metadata": {
    "tags": []
   },
   "outputs": [
    {
     "name": "stdout",
     "output_type": "stream",
     "text": [
      "Порог: 0.15\n",
      "Precision: 0.2625\n",
      "Recall: 0.7\n",
      "ROC AUC: 0.9382801664355063\n"
     ]
    }
   ],
   "source": [
    "valuation(model, X_test_encoded, y_test, threshold=0.15)"
   ]
  },
  {
   "cell_type": "code",
   "execution_count": 526,
   "id": "091f11bc-52da-4699-baa1-82466d07e095",
   "metadata": {
    "tags": []
   },
   "outputs": [
    {
     "name": "stdout",
     "output_type": "stream",
     "text": [
      "Веса и признаки:\n",
      "work_year: -0.552\n",
      "experience_level: -0.49\n",
      "employment_type: 0.463\n",
      "job_title: 0.349\n",
      "salary_in_usd: 0.312\n",
      "employee_residence: -0.165\n",
      "remote_ratio: -0.497\n",
      "company_location: 0.568\n"
     ]
    }
   ],
   "source": [
    "# Получение коэффициентов\n",
    "weights = model.coef_[0]\n",
    "intercept = model.intercept_\n",
    "\n",
    "feature_names = X_train.columns\n",
    "weights_with_features = list(zip(feature_names, weights))\n",
    "print(\"Веса и признаки:\")\n",
    "for name, weight in weights_with_features:\n",
    "    print(f\"{name}: {round(weight,3)}\")"
   ]
  },
  {
   "cell_type": "markdown",
   "id": "10a6ca3b-3586-47ce-ab59-71a244430d7f",
   "metadata": {
    "tags": []
   },
   "source": [
    "<div style=\"background-color: rgba(255, 255, 0, 0.1); color: black; padding: 10px;\">\n",
    "    <h2>RandomForest</h2>\n",
    "</div>"
   ]
  },
  {
   "cell_type": "code",
   "execution_count": 531,
   "id": "174b3c77-9aff-488f-9c06-99d25197b90d",
   "metadata": {
    "tags": []
   },
   "outputs": [],
   "source": [
    "from sklearn.ensemble import RandomForestClassifier"
   ]
  },
  {
   "cell_type": "code",
   "execution_count": 528,
   "id": "14abc589-d4eb-4c91-9a1c-a8e6bf8c7964",
   "metadata": {
    "tags": []
   },
   "outputs": [],
   "source": [
    "data = pd.read_csv( './Other/baselines/ds_salaries.csv', sep= ',')\n",
    "data['target'] = -1\n",
    "data.loc[data.company_size=='S','target'] = 1\n",
    "data.loc[data.company_size=='M','target'] = 0\n",
    "data.loc[data.company_size=='L','target'] = 0\n",
    "data.drop(['salary','salary_currency','company_size'], inplace = True, axis =1)\n",
    "df = data.copy()"
   ]
  },
  {
   "cell_type": "code",
   "execution_count": null,
   "id": "eaaa2e72-0455-4561-8d06-5c8bfa44f270",
   "metadata": {
    "tags": []
   },
   "outputs": [],
   "source": [
    "categorical_features = list(df.select_dtypes(include=['object']).columns)\n",
    "numeric_features = list(set(df.columns) - (set(categorical_features) | set(['target'])))\n",
    "\n",
    "# qq для определения преобразующей функци\n",
    "qq_check = convert(df,numeric_features)\n",
    "\n",
    "# преобразования\n",
    "df_tmp = converter(df, ['salary_in_usd'], method='sqrt')\n",
    "df = converter(df_tmp, numeric_features, method='standard')\n",
    "\n",
    "# разделение и конвертация\n",
    "X = df.drop('target', axis=1)\n",
    "y = df['target']\n",
    "X_train, X_test, y_train, y_test = train_test_split(X, y, test_size=0.2, random_state=42, stratify = y)\n",
    "\n",
    "X_train_encoded, X_test_encoded =  encode(X_train, y_train, X_test, categorical_features, 'onehot')"
   ]
  },
  {
   "cell_type": "code",
   "execution_count": 538,
   "id": "3d848fba-f18b-4d5b-b23d-78fa4b6c9aef",
   "metadata": {
    "tags": []
   },
   "outputs": [
    {
     "name": "stderr",
     "output_type": "stream",
     "text": [
      "/usr/local/lib/python3.8/site-packages/sklearn/ensemble/_forest.py:427: FutureWarning: `max_features='auto'` has been deprecated in 1.1 and will be removed in 1.3. To keep the past behaviour, explicitly set `max_features='sqrt'` or remove this parameter as it is also the default value for RandomForestClassifiers and ExtraTreesClassifiers.\n",
      "  warn(\n"
     ]
    },
    {
     "data": {
      "text/html": [
       "<style>#sk-container-id-66 {color: black;background-color: white;}#sk-container-id-66 pre{padding: 0;}#sk-container-id-66 div.sk-toggleable {background-color: white;}#sk-container-id-66 label.sk-toggleable__label {cursor: pointer;display: block;width: 100%;margin-bottom: 0;padding: 0.3em;box-sizing: border-box;text-align: center;}#sk-container-id-66 label.sk-toggleable__label-arrow:before {content: \"▸\";float: left;margin-right: 0.25em;color: #696969;}#sk-container-id-66 label.sk-toggleable__label-arrow:hover:before {color: black;}#sk-container-id-66 div.sk-estimator:hover label.sk-toggleable__label-arrow:before {color: black;}#sk-container-id-66 div.sk-toggleable__content {max-height: 0;max-width: 0;overflow: hidden;text-align: left;background-color: #f0f8ff;}#sk-container-id-66 div.sk-toggleable__content pre {margin: 0.2em;color: black;border-radius: 0.25em;background-color: #f0f8ff;}#sk-container-id-66 input.sk-toggleable__control:checked~div.sk-toggleable__content {max-height: 200px;max-width: 100%;overflow: auto;}#sk-container-id-66 input.sk-toggleable__control:checked~label.sk-toggleable__label-arrow:before {content: \"▾\";}#sk-container-id-66 div.sk-estimator input.sk-toggleable__control:checked~label.sk-toggleable__label {background-color: #d4ebff;}#sk-container-id-66 div.sk-label input.sk-toggleable__control:checked~label.sk-toggleable__label {background-color: #d4ebff;}#sk-container-id-66 input.sk-hidden--visually {border: 0;clip: rect(1px 1px 1px 1px);clip: rect(1px, 1px, 1px, 1px);height: 1px;margin: -1px;overflow: hidden;padding: 0;position: absolute;width: 1px;}#sk-container-id-66 div.sk-estimator {font-family: monospace;background-color: #f0f8ff;border: 1px dotted black;border-radius: 0.25em;box-sizing: border-box;margin-bottom: 0.5em;}#sk-container-id-66 div.sk-estimator:hover {background-color: #d4ebff;}#sk-container-id-66 div.sk-parallel-item::after {content: \"\";width: 100%;border-bottom: 1px solid gray;flex-grow: 1;}#sk-container-id-66 div.sk-label:hover label.sk-toggleable__label {background-color: #d4ebff;}#sk-container-id-66 div.sk-serial::before {content: \"\";position: absolute;border-left: 1px solid gray;box-sizing: border-box;top: 0;bottom: 0;left: 50%;z-index: 0;}#sk-container-id-66 div.sk-serial {display: flex;flex-direction: column;align-items: center;background-color: white;padding-right: 0.2em;padding-left: 0.2em;position: relative;}#sk-container-id-66 div.sk-item {position: relative;z-index: 1;}#sk-container-id-66 div.sk-parallel {display: flex;align-items: stretch;justify-content: center;background-color: white;position: relative;}#sk-container-id-66 div.sk-item::before, #sk-container-id-66 div.sk-parallel-item::before {content: \"\";position: absolute;border-left: 1px solid gray;box-sizing: border-box;top: 0;bottom: 0;left: 50%;z-index: -1;}#sk-container-id-66 div.sk-parallel-item {display: flex;flex-direction: column;z-index: 1;position: relative;background-color: white;}#sk-container-id-66 div.sk-parallel-item:first-child::after {align-self: flex-end;width: 50%;}#sk-container-id-66 div.sk-parallel-item:last-child::after {align-self: flex-start;width: 50%;}#sk-container-id-66 div.sk-parallel-item:only-child::after {width: 0;}#sk-container-id-66 div.sk-dashed-wrapped {border: 1px dashed gray;margin: 0 0.4em 0.5em 0.4em;box-sizing: border-box;padding-bottom: 0.4em;background-color: white;}#sk-container-id-66 div.sk-label label {font-family: monospace;font-weight: bold;display: inline-block;line-height: 1.2em;}#sk-container-id-66 div.sk-label-container {text-align: center;}#sk-container-id-66 div.sk-container {/* jupyter's `normalize.less` sets `[hidden] { display: none; }` but bootstrap.min.css set `[hidden] { display: none !important; }` so we also need the `!important` here to be able to override the default hidden behavior on the sphinx rendered scikit-learn.org. See: https://github.com/scikit-learn/scikit-learn/issues/21755 */display: inline-block !important;position: relative;}#sk-container-id-66 div.sk-text-repr-fallback {display: none;}</style><div id=\"sk-container-id-66\" class=\"sk-top-container\"><div class=\"sk-text-repr-fallback\"><pre>RandomForestClassifier(max_features=&#x27;auto&#x27;, n_jobs=1)</pre><b>In a Jupyter environment, please rerun this cell to show the HTML representation or trust the notebook. <br />On GitHub, the HTML representation is unable to render, please try loading this page with nbviewer.org.</b></div><div class=\"sk-container\" hidden><div class=\"sk-item\"><div class=\"sk-estimator sk-toggleable\"><input class=\"sk-toggleable__control sk-hidden--visually\" id=\"sk-estimator-id-66\" type=\"checkbox\" checked><label for=\"sk-estimator-id-66\" class=\"sk-toggleable__label sk-toggleable__label-arrow\">RandomForestClassifier</label><div class=\"sk-toggleable__content\"><pre>RandomForestClassifier(max_features=&#x27;auto&#x27;, n_jobs=1)</pre></div></div></div></div></div>"
      ],
      "text/plain": [
       "RandomForestClassifier(max_features='auto', n_jobs=1)"
      ]
     },
     "execution_count": 538,
     "metadata": {},
     "output_type": "execute_result"
    }
   ],
   "source": [
    "params = {\n",
    "    'n_estimators': 100,  # количество деревьев в лесу\n",
    "    'criterion': 'gini',  # критерий качества разбиения\n",
    "    'max_depth': None,  # максимальная глубина дерева\n",
    "    'min_samples_split': 2,  # минимальное количество объектов, необходимое для разделения внутреннего узла\n",
    "    'min_samples_leaf': 1,  # минимальное количество объектов в листе\n",
    "    'min_weight_fraction_leaf': 0.0,  # минимальная взвешенная доля суммы весов во всех объектах, необходимая для листа\n",
    "    'max_features': 'auto',  # количество признаков, учитываемых при поиске лучшего разбиения\n",
    "    'max_leaf_nodes': None,  # максимальное количество листьев\n",
    "    'min_impurity_decrease': 0.0,  # уменьшение неопределенности для разделения\n",
    "    'bootstrap': True,  # использование бутстрапа для построения деревьев\n",
    "    'oob_score': False,  # использование out-of-bag объектов для оценки точности\n",
    "    'n_jobs': 1,  # количество ядер для параллельной работы\n",
    "    'random_state': None,  # контроль за случайностью\n",
    "    'verbose': 0,  # уровень детализации в процессе обучения\n",
    "    'warm_start': False,  # использование предыдущего решения для добавления новых деревьев в ансамбль\n",
    "    'class_weight': None,  # веса классов\n",
    "    'ccp_alpha': 0.0,  # параметр для минимальной стоимости комплексной прунинга\n",
    "    'max_samples': None  # количество объектов для обучения каждого базового дерева\n",
    "}\n",
    "\n",
    "model = RandomForestClassifier(**params)\n",
    "model.fit(X_train_encoded, y_train)"
   ]
  },
  {
   "cell_type": "code",
   "execution_count": 539,
   "id": "4e3eeda9-69da-49d5-a8fb-88f3339b5b23",
   "metadata": {
    "tags": []
   },
   "outputs": [
    {
     "name": "stdout",
     "output_type": "stream",
     "text": [
      "Порог: 0.15\n",
      "Precision: 0.21176470588235294\n",
      "Recall: 0.6\n",
      "ROC AUC: 0.9223069810448451\n"
     ]
    }
   ],
   "source": [
    "valuation(model, X_test_encoded, y_test, threshold=0.15)"
   ]
  },
  {
   "cell_type": "code",
   "execution_count": 575,
   "id": "f38ff9de-45b4-4f75-b190-8a84a67a6d7e",
   "metadata": {
    "tags": []
   },
   "outputs": [
    {
     "data": {
      "text/html": [
       "<style>#sk-container-id-70 {color: black;background-color: white;}#sk-container-id-70 pre{padding: 0;}#sk-container-id-70 div.sk-toggleable {background-color: white;}#sk-container-id-70 label.sk-toggleable__label {cursor: pointer;display: block;width: 100%;margin-bottom: 0;padding: 0.3em;box-sizing: border-box;text-align: center;}#sk-container-id-70 label.sk-toggleable__label-arrow:before {content: \"▸\";float: left;margin-right: 0.25em;color: #696969;}#sk-container-id-70 label.sk-toggleable__label-arrow:hover:before {color: black;}#sk-container-id-70 div.sk-estimator:hover label.sk-toggleable__label-arrow:before {color: black;}#sk-container-id-70 div.sk-toggleable__content {max-height: 0;max-width: 0;overflow: hidden;text-align: left;background-color: #f0f8ff;}#sk-container-id-70 div.sk-toggleable__content pre {margin: 0.2em;color: black;border-radius: 0.25em;background-color: #f0f8ff;}#sk-container-id-70 input.sk-toggleable__control:checked~div.sk-toggleable__content {max-height: 200px;max-width: 100%;overflow: auto;}#sk-container-id-70 input.sk-toggleable__control:checked~label.sk-toggleable__label-arrow:before {content: \"▾\";}#sk-container-id-70 div.sk-estimator input.sk-toggleable__control:checked~label.sk-toggleable__label {background-color: #d4ebff;}#sk-container-id-70 div.sk-label input.sk-toggleable__control:checked~label.sk-toggleable__label {background-color: #d4ebff;}#sk-container-id-70 input.sk-hidden--visually {border: 0;clip: rect(1px 1px 1px 1px);clip: rect(1px, 1px, 1px, 1px);height: 1px;margin: -1px;overflow: hidden;padding: 0;position: absolute;width: 1px;}#sk-container-id-70 div.sk-estimator {font-family: monospace;background-color: #f0f8ff;border: 1px dotted black;border-radius: 0.25em;box-sizing: border-box;margin-bottom: 0.5em;}#sk-container-id-70 div.sk-estimator:hover {background-color: #d4ebff;}#sk-container-id-70 div.sk-parallel-item::after {content: \"\";width: 100%;border-bottom: 1px solid gray;flex-grow: 1;}#sk-container-id-70 div.sk-label:hover label.sk-toggleable__label {background-color: #d4ebff;}#sk-container-id-70 div.sk-serial::before {content: \"\";position: absolute;border-left: 1px solid gray;box-sizing: border-box;top: 0;bottom: 0;left: 50%;z-index: 0;}#sk-container-id-70 div.sk-serial {display: flex;flex-direction: column;align-items: center;background-color: white;padding-right: 0.2em;padding-left: 0.2em;position: relative;}#sk-container-id-70 div.sk-item {position: relative;z-index: 1;}#sk-container-id-70 div.sk-parallel {display: flex;align-items: stretch;justify-content: center;background-color: white;position: relative;}#sk-container-id-70 div.sk-item::before, #sk-container-id-70 div.sk-parallel-item::before {content: \"\";position: absolute;border-left: 1px solid gray;box-sizing: border-box;top: 0;bottom: 0;left: 50%;z-index: -1;}#sk-container-id-70 div.sk-parallel-item {display: flex;flex-direction: column;z-index: 1;position: relative;background-color: white;}#sk-container-id-70 div.sk-parallel-item:first-child::after {align-self: flex-end;width: 50%;}#sk-container-id-70 div.sk-parallel-item:last-child::after {align-self: flex-start;width: 50%;}#sk-container-id-70 div.sk-parallel-item:only-child::after {width: 0;}#sk-container-id-70 div.sk-dashed-wrapped {border: 1px dashed gray;margin: 0 0.4em 0.5em 0.4em;box-sizing: border-box;padding-bottom: 0.4em;background-color: white;}#sk-container-id-70 div.sk-label label {font-family: monospace;font-weight: bold;display: inline-block;line-height: 1.2em;}#sk-container-id-70 div.sk-label-container {text-align: center;}#sk-container-id-70 div.sk-container {/* jupyter's `normalize.less` sets `[hidden] { display: none; }` but bootstrap.min.css set `[hidden] { display: none !important; }` so we also need the `!important` here to be able to override the default hidden behavior on the sphinx rendered scikit-learn.org. See: https://github.com/scikit-learn/scikit-learn/issues/21755 */display: inline-block !important;position: relative;}#sk-container-id-70 div.sk-text-repr-fallback {display: none;}</style><div id=\"sk-container-id-70\" class=\"sk-top-container\"><div class=\"sk-text-repr-fallback\"><pre>RandomForestClassifier(random_state=42)</pre><b>In a Jupyter environment, please rerun this cell to show the HTML representation or trust the notebook. <br />On GitHub, the HTML representation is unable to render, please try loading this page with nbviewer.org.</b></div><div class=\"sk-container\" hidden><div class=\"sk-item\"><div class=\"sk-estimator sk-toggleable\"><input class=\"sk-toggleable__control sk-hidden--visually\" id=\"sk-estimator-id-72\" type=\"checkbox\" checked><label for=\"sk-estimator-id-72\" class=\"sk-toggleable__label sk-toggleable__label-arrow\">RandomForestClassifier</label><div class=\"sk-toggleable__content\"><pre>RandomForestClassifier(random_state=42)</pre></div></div></div></div></div>"
      ],
      "text/plain": [
       "RandomForestClassifier(random_state=42)"
      ]
     },
     "execution_count": 575,
     "metadata": {},
     "output_type": "execute_result"
    }
   ],
   "source": [
    "model.fit(X_train_encoded, y_train)"
   ]
  },
  {
   "cell_type": "code",
   "execution_count": 576,
   "id": "4eee67ef-82d1-4c01-8e82-de8e581db073",
   "metadata": {
    "tags": []
   },
   "outputs": [
    {
     "name": "stdout",
     "output_type": "stream",
     "text": [
      "                                Feature  Importance\n",
      "0                         salary_in_usd    0.198324\n",
      "1                             work_year    0.095449\n",
      "2                          remote_ratio    0.050374\n",
      "3                   experience_level_EN    0.022921\n",
      "4  job_title_Machine Learning Scientist    0.022780\n",
      "5              job_title_Data Scientist    0.021233\n",
      "6                   experience_level_MI    0.020145\n",
      "7                   company_location_US    0.019272\n",
      "8                    employment_type_FT    0.018686\n",
      "9                 employee_residence_US    0.018089\n"
     ]
    },
    {
     "data": {
      "image/png": "[encoded data removed]",
      "text/plain": [
       "<Figure size 720x576 with 1 Axes>"
      ]
     },
     "metadata": {
      "needs_background": "light"
     },
     "output_type": "display_data"
    }
   ],
   "source": [
    "import matplotlib.pyplot as plt\n",
    "import seaborn as sns\n",
    "\n",
    "feature_importances = model.feature_importances_\n",
    "features = pd.DataFrame({\n",
    "    'Feature': X_train_encoded.columns,\n",
    "    'Importance': feature_importances\n",
    "})\n",
    "\n",
    "features = features.sort_values(by='Importance', ascending=False).reset_index(drop=True)\n",
    "print(features.head(10))\n",
    "\n",
    "plt.figure(figsize=(10, 8))\n",
    "sns.barplot(x='Importance', y='Feature', data=features.head(20))\n",
    "plt.title('Top 20 Feature Importances')\n",
    "plt.xlabel('Importance')\n",
    "plt.ylabel('Feature')\n",
    "plt.show()\n"
   ]
  },
  {
   "cell_type": "markdown",
   "id": "dbc36a70-c4e6-4169-bdc5-26de2ae32df3",
   "metadata": {
    "tags": []
   },
   "source": [
    "### GRID SEARCH"
   ]
  },
  {
   "cell_type": "code",
   "execution_count": 548,
   "id": "c5c45494-f6ef-4653-b144-85692ff4951b",
   "metadata": {
    "tags": []
   },
   "outputs": [],
   "source": [
    "from sklearn.model_selection import GridSearchCV\n",
    "\n",
    "param_grid = {\n",
    "    'n_estimators': [500],  \n",
    "    'max_depth': [None, 10, 20],  \n",
    "    'min_samples_split': [2, 5],  \n",
    "    'min_samples_leaf': [1, 2], \n",
    "    'max_features': ['auto', 'sqrt', 'log2'],  \n",
    "    'bootstrap': [True],  \n",
    "    'criterion': ['gini', 'entropy'],  \n",
    "    'max_leaf_nodes': [None, 10, 50] \n",
    "}\n"
   ]
  },
  {
   "cell_type": "code",
   "execution_count": null,
   "id": "49b8dfd4-b939-4292-9bb4-93f1b5dd0493",
   "metadata": {
    "tags": []
   },
   "outputs": [],
   "source": [
    "model = RandomForestClassifier(random_state=42)\n",
    "grid_search = GridSearchCV(estimator=model, param_grid=param_grid, scoring='roc_auc', cv=5, verbose=2, n_jobs=1)\n",
    "grid_search.fit(X_train_encoded, y_train)"
   ]
  },
  {
   "cell_type": "code",
   "execution_count": 550,
   "id": "bea18d40-dfe3-4183-ac53-7f02ade41f0d",
   "metadata": {
    "tags": []
   },
   "outputs": [
    {
     "name": "stdout",
     "output_type": "stream",
     "text": [
      "Лучшие параметры: {'bootstrap': True, 'criterion': 'entropy', 'max_depth': 20, 'max_features': 'log2', 'max_leaf_nodes': None, 'min_samples_leaf': 1, 'min_samples_split': 5, 'n_estimators': 500}\n",
      "Лучшая ROC AUC: 0.9276105281811848\n"
     ]
    }
   ],
   "source": [
    "print(\"Лучшие параметры:\", grid_search.best_params_)\n",
    "print(\"Лучшая ROC AUC:\", grid_search.best_score_)\n",
    "best_model = grid_search.best_estimator_"
   ]
  },
  {
   "cell_type": "code",
   "execution_count": 560,
   "id": "1abf68d0-cebd-4e2b-bf36-788dab52ce07",
   "metadata": {
    "tags": []
   },
   "outputs": [
    {
     "name": "stdout",
     "output_type": "stream",
     "text": [
      "Порог: 0.15\n",
      "Precision: 0.2465753424657534\n",
      "Recall: 0.6\n",
      "ROC AUC: 0.9304669440591771\n"
     ]
    }
   ],
   "source": [
    "valuation(best_model, X_test_encoded, y_test, threshold =0.15)"
   ]
  },
  {
   "cell_type": "markdown",
   "id": "6f89fbcc-1a3c-457b-b165-cda31e38e023",
   "metadata": {
    "tags": []
   },
   "source": [
    "### RANDOM SEARCH"
   ]
  },
  {
   "cell_type": "code",
   "execution_count": null,
   "id": "842280f8-ec83-49cc-abf5-b8040ee37527",
   "metadata": {
    "tags": []
   },
   "outputs": [],
   "source": [
    "from sklearn.model_selection import RandomizedSearchCV\n",
    "from scipy.stats import randint\n",
    "\n",
    "# Настройка параметров для RandomizedSearchCV\n",
    "param_grid = {\n",
    "    'n_estimators': [500],  \n",
    "    'max_depth': [None, 20, 30],  \n",
    "    'min_samples_split': [5,10,15],  \n",
    "    'min_samples_leaf': [1, 4, 6], \n",
    "    'max_features': ['log2'],  \n",
    "    'bootstrap': [True],  \n",
    "    'criterion': ['entropy'],  \n",
    "    'max_leaf_nodes': [None] \n",
    "}\n",
    "\n",
    "\n",
    "# Инициализация RandomizedSearchCV\n",
    "random_search = RandomizedSearchCV(model, param_distributions=param_grid, scoring='roc_auc', n_iter=100, cv=5, verbose=2, n_jobs=1, random_state=42)\n",
    "random_search.fit(X_train_encoded, y_train)\n",
    "\n",
    "\n",
    "print(\"Лучшие параметры:\", random_search.best_params_)\n",
    "print(\"Лучшая ROC AUC:\", random_search.best_score_)\n"
   ]
  },
  {
   "cell_type": "code",
   "execution_count": 565,
   "id": "b6c22a53-2cc5-4ee1-9cb7-df25c3e1b657",
   "metadata": {
    "tags": []
   },
   "outputs": [
    {
     "name": "stdout",
     "output_type": "stream",
     "text": [
      "Лучшие параметры: {'n_estimators': 500, 'min_samples_split': 5, 'min_samples_leaf': 1, 'max_leaf_nodes': None, 'max_features': 'log2', 'max_depth': 20, 'criterion': 'entropy', 'bootstrap': True}\n",
      "Лучшая ROC AUC: 0.9276105281811848\n"
     ]
    }
   ],
   "source": [
    "print(\"Лучшие параметры:\", random_search.best_params_)\n",
    "print(\"Лучшая ROC AUC:\", random_search.best_score_)\n",
    "#best_model = random_search.best_estimator_"
   ]
  },
  {
   "cell_type": "code",
   "execution_count": null,
   "id": "d46f636d-b4e5-421a-a666-f648e7a937bd",
   "metadata": {},
   "outputs": [],
   "source": []
  },
  {
   "cell_type": "code",
   "execution_count": null,
   "id": "5450c121-3133-439c-b6b2-ba648e6a2412",
   "metadata": {},
   "outputs": [],
   "source": []
  },
  {
   "cell_type": "markdown",
   "id": "84d669be-5679-47b3-8483-6601251830ae",
   "metadata": {
    "tags": []
   },
   "source": [
    "<div style=\"background-color: rgba(255, 255, 0, 0.1); color: black; padding: 10px;\">\n",
    "    <h2>Catboost</h2>\n",
    "</div>"
   ]
  },
  {
   "cell_type": "code",
   "execution_count": null,
   "id": "9789da92-adf8-4b3c-90f5-eee806b9a417",
   "metadata": {},
   "outputs": [],
   "source": []
  },
  {
   "cell_type": "markdown",
   "id": "63754ae2-f836-4695-a5ca-e77ff14fabcf",
   "metadata": {
    "tags": []
   },
   "source": [
    "<div style=\"background-color: rgba(255, 255, 0, 0.1); color: black; padding: 10px;\">\n",
    "    <h2>LGBM</h2>\n",
    "</div>"
   ]
  },
  {
   "cell_type": "code",
   "execution_count": null,
   "id": "ecce5f83-22a7-47b4-bc81-dc6b93fc1996",
   "metadata": {},
   "outputs": [],
   "source": []
  },
  {
   "cell_type": "markdown",
   "id": "7e2153ea-267b-4d3b-ab9e-fe87e4504127",
   "metadata": {
    "tags": []
   },
   "source": [
    "<div style=\"background-color: rgba(255, 255, 0, 0.1); color: black; padding: 10px;\">\n",
    "    <h2>KERAS</h2>\n",
    "</div>"
   ]
  },
  {
   "cell_type": "code",
   "execution_count": null,
   "id": "c4cc606f-b297-4fe8-b557-11b6d64c31db",
   "metadata": {
    "tags": []
   },
   "outputs": [],
   "source": [
    "from tensorflow.keras.models import Sequential\n",
    "from tensorflow.keras.layers import Dense, Dropout, BatchNormalization\n",
    "from sklearn.preprocessing import StandardScaler\n",
    "from tensorflow.keras.optimizers import Adam\n",
    "import tensorflow as tf"
   ]
  },
  {
   "cell_type": "code",
   "execution_count": null,
   "id": "d7df0337-34a7-4381-b781-b3d09ab8290f",
   "metadata": {},
   "outputs": [],
   "source": [
    "data = pd.read_csv( './Other/baselines/ds_salaries.csv', sep= ',')\n",
    "data['target'] = -1\n",
    "data.loc[data.company_size=='S','target'] = 1\n",
    "data.loc[data.company_size=='M','target'] = 0\n",
    "data.loc[data.company_size=='L','target'] = 0\n",
    "data.drop(['salary','salary_currency','company_size'], inplace = True, axis =1)\n",
    "df = data.copy()"
   ]
  },
  {
   "cell_type": "code",
   "execution_count": null,
   "id": "ed3fff3c-bcfe-45dc-aaf9-9656d73d6e14",
   "metadata": {},
   "outputs": [],
   "source": [
    "categorical_features = list(df.select_dtypes(include=['object']).columns)\n",
    "numeric_features = list(set(df.columns) - (set(categorical_features) | set(['target'])))\n",
    "\n",
    "# qq для определения преобразующей функци\n",
    "qq_check = convert(df,numeric_features)\n",
    "\n",
    "# преобразования\n",
    "df_tmp = converter(df, ['salary_in_usd'], method='sqrt')\n",
    "df = converter(df_tmp, numeric_features, method='standard')\n",
    "\n",
    "# разделение и конвертация\n",
    "X = df.drop('target', axis=1)\n",
    "y = df['target']\n",
    "X_train, X_test, y_train, y_test = train_test_split(X, y, test_size=0.2, random_state=42, stratify = y)\n",
    "\n",
    "X_train_encoded, X_test_encoded =  encode(X_train, y_train, X_test, categorical_features, 'onehot')"
   ]
  },
  {
   "cell_type": "code",
   "execution_count": null,
   "id": "86c29ad0-c1ec-4550-858f-fb1ccd74050f",
   "metadata": {},
   "outputs": [],
   "source": []
  },
  {
   "cell_type": "code",
   "execution_count": null,
   "id": "1910e895-00f5-421b-b67b-3f6f4c27f5e3",
   "metadata": {},
   "outputs": [],
   "source": []
  },
  {
   "cell_type": "code",
   "execution_count": null,
   "id": "cab4e0cf-c399-46d5-8fe8-72712a513a9e",
   "metadata": {},
   "outputs": [],
   "source": []
  },
  {
   "cell_type": "markdown",
   "id": "48288049-23d8-41f7-816e-44a954f3a6be",
   "metadata": {
    "jp-MarkdownHeadingCollapsed": true,
    "tags": []
   },
   "source": [
    "<div style=\"background-color: rgba(255, 255, 0, 0.1); color: black; padding: 10px;\">\n",
    "    <h2>Pytorch</h2>\n",
    "</div>"
   ]
  },
  {
   "cell_type": "code",
   "execution_count": null,
   "id": "417ebf80-0acd-43d3-a6da-18a282641f5c",
   "metadata": {
    "tags": []
   },
   "outputs": [],
   "source": []
  },
  {
   "cell_type": "markdown",
   "id": "c80a32fe-9e5d-4a76-b1a7-618dbcff32e8",
   "metadata": {
    "tags": []
   },
   "source": [
    "# Regression"
   ]
  },
  {
   "cell_type": "markdown",
   "id": "1ec61460-108b-4a9c-a4a7-d4d08a792c5b",
   "metadata": {
    "tags": []
   },
   "source": [
    "<div style=\"background-color: rgba(255, 255, 0, 0.1); color: black; padding: 10px;\">\n",
    "    <h2>Linear</h2>\n",
    "</div>"
   ]
  },
  {
   "cell_type": "code",
   "execution_count": 764,
   "id": "eb63ff8f-f513-4bd7-808e-e6b1fec58539",
   "metadata": {
    "tags": []
   },
   "outputs": [],
   "source": [
    "data = pd.read_csv( './Other/baselines/ds_salaries.csv', sep= ',')\n",
    "data['target'] = data.salary_in_usd\n",
    "data.drop(['salary','salary_currency','salary_in_usd'], inplace = True, axis =1)\n",
    "df = data.copy()"
   ]
  },
  {
   "cell_type": "code",
   "execution_count": 765,
   "id": "4d7ba0bd-28c4-4341-aed7-a86dcf962379",
   "metadata": {},
   "outputs": [],
   "source": [
    "categorical_features = list(df.select_dtypes(include=['object']).columns)\n",
    "numeric_features = list(set(df.columns) - (set(categorical_features) | set(['target'])))"
   ]
  },
  {
   "cell_type": "markdown",
   "id": "d3a581c6-5e42-48e7-a060-d19399632008",
   "metadata": {
    "tags": []
   },
   "source": [
    "### Feature Engineering"
   ]
  },
  {
   "cell_type": "code",
   "execution_count": null,
   "id": "277c1b4c-34c2-48a2-9c95-4ea461254e6a",
   "metadata": {},
   "outputs": [],
   "source": [
    "# для числовых\n",
    "from sklearn.preprocessing import PolynomialFeatures\n",
    "poly = PolynomialFeatures(degree=2, interaction_only=True, include_bias=False)\n",
    "# degree=2 означает, что будут созданы все полиномиальные комбинации признаков степени до 2\n",
    "# interaction_only=True гарантирует, что будут включены только произведения различных признаков,а не квадраты отдельных признаков\n",
    "\n",
    "features_to_poly = numeric_features\n",
    "new_poly = poly.fit_transform(df[features_to_poly])\n",
    "new_poly_df = pd.DataFrame(new_poly_feat, columns=poly.get_feature_names(df[features_to_poly].columns))\n",
    "new_poly_cols = list(set(new_poly_df.columns) - set(features_to_poly))\n",
    "df[new_poly_cols] = new_poly_df[new_poly_cols]\n",
    "\n",
    "# Переопределим переменные\n",
    "categorical_features = list(df.select_dtypes(include=['object']).columns)\n",
    "numeric_features = list(set(df.columns) - (set(categorical_features) | set(['target'])))"
   ]
  },
  {
   "cell_type": "code",
   "execution_count": 767,
   "id": "44bc5907-e7b5-4671-93de-e6fca51b8808",
   "metadata": {
    "tags": []
   },
   "outputs": [],
   "source": [
    "#для категориальных \n",
    "df['new_cat'] = df['experience_level'].astype(str)+'_'+ df['employment_type'].astype(str)\n",
    "\n",
    "categorical_features = list(df.select_dtypes(include=['object']).columns)\n",
    "numeric_features = list(set(df.columns) - (set(categorical_features) | set(['target'])))"
   ]
  },
  {
   "cell_type": "markdown",
   "id": "498c195f-d9e8-4178-ac25-50f7064d0a5e",
   "metadata": {
    "tags": []
   },
   "source": [
    "### Preparing"
   ]
  },
  {
   "cell_type": "code",
   "execution_count": null,
   "id": "65b0bc25-471d-46dc-91bc-a2ab17616dd4",
   "metadata": {
    "tags": []
   },
   "outputs": [],
   "source": [
    "# qq для определения преобразующей функци\n",
    "qq_check = convert(df,numeric_features)\n",
    "\n",
    "# преобразования\n",
    "df = converter(df, numeric_features, method='standard')\n",
    "\n",
    "# разделение и конвертация\n",
    "X = df.drop('target', axis=1)\n",
    "y = df['target']\n",
    "X_train, X_test, y_train, y_test = train_test_split(X, y, test_size=0.2, random_state=42)\n",
    "\n",
    "X_train_encoded, X_test_encoded =  encode(X_train, y_train, X_test, categorical_features, 'onehot')"
   ]
  },
  {
   "cell_type": "markdown",
   "id": "8e96db6c-ff00-4bb5-9de4-4021e871d6e9",
   "metadata": {
    "tags": []
   },
   "source": [
    "### Modeling"
   ]
  },
  {
   "cell_type": "code",
   "execution_count": 769,
   "id": "4e516cc9-6bb9-4edc-a402-b75b5cb3d7e6",
   "metadata": {
    "tags": []
   },
   "outputs": [
    {
     "data": {
      "text/html": [
       "<style>#sk-container-id-92 {color: black;background-color: white;}#sk-container-id-92 pre{padding: 0;}#sk-container-id-92 div.sk-toggleable {background-color: white;}#sk-container-id-92 label.sk-toggleable__label {cursor: pointer;display: block;width: 100%;margin-bottom: 0;padding: 0.3em;box-sizing: border-box;text-align: center;}#sk-container-id-92 label.sk-toggleable__label-arrow:before {content: \"▸\";float: left;margin-right: 0.25em;color: #696969;}#sk-container-id-92 label.sk-toggleable__label-arrow:hover:before {color: black;}#sk-container-id-92 div.sk-estimator:hover label.sk-toggleable__label-arrow:before {color: black;}#sk-container-id-92 div.sk-toggleable__content {max-height: 0;max-width: 0;overflow: hidden;text-align: left;background-color: #f0f8ff;}#sk-container-id-92 div.sk-toggleable__content pre {margin: 0.2em;color: black;border-radius: 0.25em;background-color: #f0f8ff;}#sk-container-id-92 input.sk-toggleable__control:checked~div.sk-toggleable__content {max-height: 200px;max-width: 100%;overflow: auto;}#sk-container-id-92 input.sk-toggleable__control:checked~label.sk-toggleable__label-arrow:before {content: \"▾\";}#sk-container-id-92 div.sk-estimator input.sk-toggleable__control:checked~label.sk-toggleable__label {background-color: #d4ebff;}#sk-container-id-92 div.sk-label input.sk-toggleable__control:checked~label.sk-toggleable__label {background-color: #d4ebff;}#sk-container-id-92 input.sk-hidden--visually {border: 0;clip: rect(1px 1px 1px 1px);clip: rect(1px, 1px, 1px, 1px);height: 1px;margin: -1px;overflow: hidden;padding: 0;position: absolute;width: 1px;}#sk-container-id-92 div.sk-estimator {font-family: monospace;background-color: #f0f8ff;border: 1px dotted black;border-radius: 0.25em;box-sizing: border-box;margin-bottom: 0.5em;}#sk-container-id-92 div.sk-estimator:hover {background-color: #d4ebff;}#sk-container-id-92 div.sk-parallel-item::after {content: \"\";width: 100%;border-bottom: 1px solid gray;flex-grow: 1;}#sk-container-id-92 div.sk-label:hover label.sk-toggleable__label {background-color: #d4ebff;}#sk-container-id-92 div.sk-serial::before {content: \"\";position: absolute;border-left: 1px solid gray;box-sizing: border-box;top: 0;bottom: 0;left: 50%;z-index: 0;}#sk-container-id-92 div.sk-serial {display: flex;flex-direction: column;align-items: center;background-color: white;padding-right: 0.2em;padding-left: 0.2em;position: relative;}#sk-container-id-92 div.sk-item {position: relative;z-index: 1;}#sk-container-id-92 div.sk-parallel {display: flex;align-items: stretch;justify-content: center;background-color: white;position: relative;}#sk-container-id-92 div.sk-item::before, #sk-container-id-92 div.sk-parallel-item::before {content: \"\";position: absolute;border-left: 1px solid gray;box-sizing: border-box;top: 0;bottom: 0;left: 50%;z-index: -1;}#sk-container-id-92 div.sk-parallel-item {display: flex;flex-direction: column;z-index: 1;position: relative;background-color: white;}#sk-container-id-92 div.sk-parallel-item:first-child::after {align-self: flex-end;width: 50%;}#sk-container-id-92 div.sk-parallel-item:last-child::after {align-self: flex-start;width: 50%;}#sk-container-id-92 div.sk-parallel-item:only-child::after {width: 0;}#sk-container-id-92 div.sk-dashed-wrapped {border: 1px dashed gray;margin: 0 0.4em 0.5em 0.4em;box-sizing: border-box;padding-bottom: 0.4em;background-color: white;}#sk-container-id-92 div.sk-label label {font-family: monospace;font-weight: bold;display: inline-block;line-height: 1.2em;}#sk-container-id-92 div.sk-label-container {text-align: center;}#sk-container-id-92 div.sk-container {/* jupyter's `normalize.less` sets `[hidden] { display: none; }` but bootstrap.min.css set `[hidden] { display: none !important; }` so we also need the `!important` here to be able to override the default hidden behavior on the sphinx rendered scikit-learn.org. See: https://github.com/scikit-learn/scikit-learn/issues/21755 */display: inline-block !important;position: relative;}#sk-container-id-92 div.sk-text-repr-fallback {display: none;}</style><div id=\"sk-container-id-92\" class=\"sk-top-container\"><div class=\"sk-text-repr-fallback\"><pre>Ridge(alpha=0.5, max_iter=100, random_state=42, solver=&#x27;svd&#x27;, tol=0.0001)</pre><b>In a Jupyter environment, please rerun this cell to show the HTML representation or trust the notebook. <br />On GitHub, the HTML representation is unable to render, please try loading this page with nbviewer.org.</b></div><div class=\"sk-container\" hidden><div class=\"sk-item\"><div class=\"sk-estimator sk-toggleable\"><input class=\"sk-toggleable__control sk-hidden--visually\" id=\"sk-estimator-id-94\" type=\"checkbox\" checked><label for=\"sk-estimator-id-94\" class=\"sk-toggleable__label sk-toggleable__label-arrow\">Ridge</label><div class=\"sk-toggleable__content\"><pre>Ridge(alpha=0.5, max_iter=100, random_state=42, solver=&#x27;svd&#x27;, tol=0.0001)</pre></div></div></div></div></div>"
      ],
      "text/plain": [
       "Ridge(alpha=0.5, max_iter=100, random_state=42, solver='svd', tol=0.0001)"
      ]
     },
     "execution_count": 769,
     "metadata": {},
     "output_type": "execute_result"
    }
   ],
   "source": [
    "from sklearn.linear_model import Ridge, Lasso\n",
    "\n",
    "params_ridge = {\n",
    "    'alpha': 0.5,  # коэффициент регуляризации\n",
    "    'fit_intercept': True,  # рассчитывать свободный член (интерсепт)\n",
    "    'max_iter': 100,  # максимальное число итераций\n",
    "    'tol': 0.0001,  # толерантность к изменениям в весах для остановки\n",
    "    'solver': 'svd',  # алгоритм решения [svd, cholesky, lsqr, sparse_cg, sag, saga\n",
    "    'random_state': 42  # контроль за случайностью\n",
    "}\n",
    "\n",
    "model_ridge = Ridge(**params_ridge)\n",
    "model_ridge.fit(X_train_encoded, y_train)"
   ]
  },
  {
   "cell_type": "code",
   "execution_count": 770,
   "id": "1f74c0e9-fc5c-4663-abed-3e408c24a73d",
   "metadata": {
    "tags": []
   },
   "outputs": [
    {
     "name": "stderr",
     "output_type": "stream",
     "text": [
      "/usr/local/lib/python3.8/site-packages/sklearn/linear_model/_coordinate_descent.py:648: ConvergenceWarning: Objective did not converge. You might want to increase the number of iterations, check the scale of the features or consider increasing regularisation. Duality gap: 1.362e+12, tolerance: 1.196e+09\n",
      "  model = cd_fast.enet_coordinate_descent(\n"
     ]
    },
    {
     "data": {
      "text/html": [
       "<style>#sk-container-id-93 {color: black;background-color: white;}#sk-container-id-93 pre{padding: 0;}#sk-container-id-93 div.sk-toggleable {background-color: white;}#sk-container-id-93 label.sk-toggleable__label {cursor: pointer;display: block;width: 100%;margin-bottom: 0;padding: 0.3em;box-sizing: border-box;text-align: center;}#sk-container-id-93 label.sk-toggleable__label-arrow:before {content: \"▸\";float: left;margin-right: 0.25em;color: #696969;}#sk-container-id-93 label.sk-toggleable__label-arrow:hover:before {color: black;}#sk-container-id-93 div.sk-estimator:hover label.sk-toggleable__label-arrow:before {color: black;}#sk-container-id-93 div.sk-toggleable__content {max-height: 0;max-width: 0;overflow: hidden;text-align: left;background-color: #f0f8ff;}#sk-container-id-93 div.sk-toggleable__content pre {margin: 0.2em;color: black;border-radius: 0.25em;background-color: #f0f8ff;}#sk-container-id-93 input.sk-toggleable__control:checked~div.sk-toggleable__content {max-height: 200px;max-width: 100%;overflow: auto;}#sk-container-id-93 input.sk-toggleable__control:checked~label.sk-toggleable__label-arrow:before {content: \"▾\";}#sk-container-id-93 div.sk-estimator input.sk-toggleable__control:checked~label.sk-toggleable__label {background-color: #d4ebff;}#sk-container-id-93 div.sk-label input.sk-toggleable__control:checked~label.sk-toggleable__label {background-color: #d4ebff;}#sk-container-id-93 input.sk-hidden--visually {border: 0;clip: rect(1px 1px 1px 1px);clip: rect(1px, 1px, 1px, 1px);height: 1px;margin: -1px;overflow: hidden;padding: 0;position: absolute;width: 1px;}#sk-container-id-93 div.sk-estimator {font-family: monospace;background-color: #f0f8ff;border: 1px dotted black;border-radius: 0.25em;box-sizing: border-box;margin-bottom: 0.5em;}#sk-container-id-93 div.sk-estimator:hover {background-color: #d4ebff;}#sk-container-id-93 div.sk-parallel-item::after {content: \"\";width: 100%;border-bottom: 1px solid gray;flex-grow: 1;}#sk-container-id-93 div.sk-label:hover label.sk-toggleable__label {background-color: #d4ebff;}#sk-container-id-93 div.sk-serial::before {content: \"\";position: absolute;border-left: 1px solid gray;box-sizing: border-box;top: 0;bottom: 0;left: 50%;z-index: 0;}#sk-container-id-93 div.sk-serial {display: flex;flex-direction: column;align-items: center;background-color: white;padding-right: 0.2em;padding-left: 0.2em;position: relative;}#sk-container-id-93 div.sk-item {position: relative;z-index: 1;}#sk-container-id-93 div.sk-parallel {display: flex;align-items: stretch;justify-content: center;background-color: white;position: relative;}#sk-container-id-93 div.sk-item::before, #sk-container-id-93 div.sk-parallel-item::before {content: \"\";position: absolute;border-left: 1px solid gray;box-sizing: border-box;top: 0;bottom: 0;left: 50%;z-index: -1;}#sk-container-id-93 div.sk-parallel-item {display: flex;flex-direction: column;z-index: 1;position: relative;background-color: white;}#sk-container-id-93 div.sk-parallel-item:first-child::after {align-self: flex-end;width: 50%;}#sk-container-id-93 div.sk-parallel-item:last-child::after {align-self: flex-start;width: 50%;}#sk-container-id-93 div.sk-parallel-item:only-child::after {width: 0;}#sk-container-id-93 div.sk-dashed-wrapped {border: 1px dashed gray;margin: 0 0.4em 0.5em 0.4em;box-sizing: border-box;padding-bottom: 0.4em;background-color: white;}#sk-container-id-93 div.sk-label label {font-family: monospace;font-weight: bold;display: inline-block;line-height: 1.2em;}#sk-container-id-93 div.sk-label-container {text-align: center;}#sk-container-id-93 div.sk-container {/* jupyter's `normalize.less` sets `[hidden] { display: none; }` but bootstrap.min.css set `[hidden] { display: none !important; }` so we also need the `!important` here to be able to override the default hidden behavior on the sphinx rendered scikit-learn.org. See: https://github.com/scikit-learn/scikit-learn/issues/21755 */display: inline-block !important;position: relative;}#sk-container-id-93 div.sk-text-repr-fallback {display: none;}</style><div id=\"sk-container-id-93\" class=\"sk-top-container\"><div class=\"sk-text-repr-fallback\"><pre>Lasso(max_iter=500, random_state=42)</pre><b>In a Jupyter environment, please rerun this cell to show the HTML representation or trust the notebook. <br />On GitHub, the HTML representation is unable to render, please try loading this page with nbviewer.org.</b></div><div class=\"sk-container\" hidden><div class=\"sk-item\"><div class=\"sk-estimator sk-toggleable\"><input class=\"sk-toggleable__control sk-hidden--visually\" id=\"sk-estimator-id-95\" type=\"checkbox\" checked><label for=\"sk-estimator-id-95\" class=\"sk-toggleable__label sk-toggleable__label-arrow\">Lasso</label><div class=\"sk-toggleable__content\"><pre>Lasso(max_iter=500, random_state=42)</pre></div></div></div></div></div>"
      ],
      "text/plain": [
       "Lasso(max_iter=500, random_state=42)"
      ]
     },
     "execution_count": 770,
     "metadata": {},
     "output_type": "execute_result"
    }
   ],
   "source": [
    "params_lasso = {\n",
    "    'alpha': 1.0,  # коэффициент регуляризации\n",
    "    'fit_intercept': True,  # рассчитывать свободный член (интерсепт)\n",
    "    'max_iter': 500,  # максимальное число итераций\n",
    "    'tol': 0.0001,  # толерантность к изменениям в весах для остановки\n",
    "    'random_state': 42,  # контроль за случайностью\n",
    "}\n",
    "model_lasso = Lasso(**params_lasso)\n",
    "model_lasso.fit(X_train_encoded, y_train)"
   ]
  },
  {
   "cell_type": "markdown",
   "id": "832b9732-8ef4-4784-9d6b-f1c4aa67a0fc",
   "metadata": {
    "tags": []
   },
   "source": [
    "### Valuation"
   ]
  },
  {
   "cell_type": "code",
   "execution_count": 771,
   "id": "b38742b0-3db2-4a52-821a-e7cf8330a773",
   "metadata": {
    "tags": []
   },
   "outputs": [
    {
     "name": "stdout",
     "output_type": "stream",
     "text": [
      "ridge:\n",
      "MSE: 2363096128.1721463\n",
      "RMSE: 48611.68715619883\n",
      "MAE: 37099.51575525768\n",
      "R²: 0.40141288501282146\n",
      "\n",
      "lasso:\n",
      "MSE: 2446775618.252585\n",
      "RMSE: 49464.89278521267\n",
      "MAE: 37613.587940223086\n",
      "R²: 0.3802163437660664\n"
     ]
    }
   ],
   "source": [
    "print('ridge:')\n",
    "valuation_r (model_ridge, X_test_encoded, y_test)\n",
    "print('')\n",
    "print('lasso:')\n",
    "valuation_r (model_lasso, X_test_encoded, y_test)"
   ]
  },
  {
   "cell_type": "code",
   "execution_count": 772,
   "id": "a45da693-c68d-45c8-af75-9d8d37506326",
   "metadata": {
    "tags": []
   },
   "outputs": [
    {
     "data": {
      "image/png": "[encoded data removed]",
      "text/plain": [
       "<Figure size 720x432 with 1 Axes>"
      ]
     },
     "metadata": {
      "needs_background": "light"
     },
     "output_type": "display_data"
    },
    {
     "data": {
      "image/png": "[encoded data removed]",
      "text/plain": [
       "<Figure size 720x432 with 1 Axes>"
      ]
     },
     "metadata": {
      "needs_background": "light"
     },
     "output_type": "display_data"
    },
    {
     "data": {
      "image/png": "[encoded data removed]",
      "text/plain": [
       "<Figure size 720x432 with 1 Axes>"
      ]
     },
     "metadata": {
      "needs_background": "light"
     },
     "output_type": "display_data"
    }
   ],
   "source": [
    "chart_result_analysis(model_ridge, X_test_encoded, y_test)"
   ]
  },
  {
   "cell_type": "markdown",
   "id": "955bd6ca-d5a1-4222-b973-8b816247faf9",
   "metadata": {
    "tags": []
   },
   "source": [
    "<div style=\"background-color: rgba(255, 255, 0, 0.1); color: black; padding: 10px;\">\n",
    "    <h2>RandomForest</h2>\n",
    "</div>"
   ]
  },
  {
   "cell_type": "markdown",
   "id": "7f415ae4-bc32-4b7e-8d70-0d79b5ee89bb",
   "metadata": {
    "tags": []
   },
   "source": [
    "### Preparing"
   ]
  },
  {
   "cell_type": "code",
   "execution_count": 777,
   "id": "8333f321-7694-475b-81e7-ad8bb7f9d4b0",
   "metadata": {
    "tags": []
   },
   "outputs": [],
   "source": [
    "data = pd.read_csv( './Other/baselines/ds_salaries.csv', sep= ',')\n",
    "data['target'] = data.salary_in_usd\n",
    "data.drop(['salary','salary_currency','salary_in_usd'], inplace = True, axis =1)\n",
    "df = data.copy()"
   ]
  },
  {
   "cell_type": "code",
   "execution_count": 778,
   "id": "d0fc2e89-fa71-4926-a532-3868da1ecd3f",
   "metadata": {
    "tags": []
   },
   "outputs": [],
   "source": [
    "categorical_features = list(df.select_dtypes(include=['object']).columns)\n",
    "numeric_features = list(set(df.columns) - (set(categorical_features) | set(['target'])))"
   ]
  },
  {
   "cell_type": "code",
   "execution_count": null,
   "id": "d3ceef80-32eb-4e3b-acd9-0abcb9888dbf",
   "metadata": {
    "tags": []
   },
   "outputs": [],
   "source": [
    "# qq для определения преобразующей функци\n",
    "qq_check = convert(df,numeric_features)\n",
    "\n",
    "# преобразования\n",
    "df = converter(df, numeric_features, method='standard')\n",
    "\n",
    "# разделение и конвертация\n",
    "X = df.drop('target', axis=1)\n",
    "y = df['target']\n",
    "X_train, X_test, y_train, y_test = train_test_split(X, y, test_size=0.2, random_state=42)\n",
    "\n",
    "X_train_encoded, X_test_encoded =  encode(X_train, y_train, X_test, categorical_features, 'onehot')"
   ]
  },
  {
   "cell_type": "markdown",
   "id": "c5af43d7-3966-46a5-a85a-cd8dd5bc65b8",
   "metadata": {
    "tags": []
   },
   "source": [
    "### Modeling"
   ]
  },
  {
   "cell_type": "code",
   "execution_count": 781,
   "id": "3d41d195-69a0-4ce1-abc8-cdcb14b4c4fe",
   "metadata": {
    "tags": []
   },
   "outputs": [],
   "source": [
    "from sklearn.ensemble import RandomForestRegressor"
   ]
  },
  {
   "cell_type": "code",
   "execution_count": null,
   "id": "b3e3a934-8bce-4907-90cb-b576b8dfe377",
   "metadata": {
    "tags": []
   },
   "outputs": [],
   "source": [
    "params = {\n",
    "    'n_estimators': 100,  # количество деревьев в лесу\n",
    "    #'criterion': 'gini',  # критерий качества разбиения\n",
    "    'max_depth': None,  # максимальная глубина дерева\n",
    "    'min_samples_split': 2,  # минимальное количество объектов, необходимое для разделения внутреннего узла\n",
    "    'min_samples_leaf': 1,  # минимальное количество объектов в листе\n",
    "    'min_weight_fraction_leaf': 0.0,  # минимальная взвешенная доля суммы весов во всех объектах, необходимая для листа\n",
    "    'max_features': 'auto',  # количество признаков, учитываемых при поиске лучшего разбиения\n",
    "    'max_leaf_nodes': None,  # максимальное количество листьев\n",
    "    'min_impurity_decrease': 0.0,  # уменьшение неопределенности для разделения\n",
    "    'bootstrap': True,  # использование бутстрапа для построения деревьев. False- для каждого дерева исп. все данные\n",
    "    'oob_score': False,  # использование out-of-bag объектов для оценки точности\n",
    "    'n_jobs': 1,  # количество ядер для параллельной работы\n",
    "    'random_state': None,  # контроль за случайностью\n",
    "    'verbose': 0,  # уровень детализации в процессе обучения\n",
    "    'warm_start': False,  # использование предыдущего решения для добавления новых деревьев в ансамбль\n",
    "    'ccp_alpha': 0.0,  # параметр для минимальной стоимости комплексной прунинга\n",
    "    'max_samples': None  # количество объектов для обучения каждого базового дерева\n",
    "}\n",
    "\n",
    "model = RandomForestRegressor(**params)\n",
    "model.fit(X_train_encoded, y_train)"
   ]
  },
  {
   "cell_type": "code",
   "execution_count": 785,
   "id": "12de4ba0-0e29-4f23-87f4-46c4f9be3fc8",
   "metadata": {
    "tags": []
   },
   "outputs": [
    {
     "name": "stdout",
     "output_type": "stream",
     "text": [
      "MSE: 2354554742.2669187\n",
      "RMSE: 48523.75441231767\n",
      "MAE: 36415.33279727755\n",
      "R²: 0.4035764717946072\n"
     ]
    }
   ],
   "source": [
    "valuation_r (model, X_test_encoded, y_test)"
   ]
  },
  {
   "cell_type": "markdown",
   "id": "dba9f340-36bf-4fc4-bdf4-1245260ecfad",
   "metadata": {
    "tags": []
   },
   "source": [
    "<div style=\"background-color: rgba(255, 255, 0, 0.1); color: black; padding: 10px;\">\n",
    "    <h2>Catboost</h2>\n",
    "</div>"
   ]
  },
  {
   "cell_type": "code",
   "execution_count": 787,
   "id": "7e226d3b-0ea5-4651-8e2a-df41eb9a6a56",
   "metadata": {
    "tags": []
   },
   "outputs": [],
   "source": [
    "data = pd.read_csv( './Other/baselines/ds_salaries.csv', sep= ',')\n",
    "data['target'] = data.salary_in_usd\n",
    "data.drop(['salary','salary_currency','salary_in_usd'], inplace = True, axis =1)\n",
    "df = data.copy()\n",
    "\n",
    "categorical_features = list(df.select_dtypes(include=['object']).columns)\n",
    "numeric_features = list(set(df.columns) - (set(categorical_features) | set(['target'])))"
   ]
  },
  {
   "cell_type": "code",
   "execution_count": 789,
   "id": "fa9e72c9-d923-45dc-bfe0-f9f2ba99b2e6",
   "metadata": {
    "tags": []
   },
   "outputs": [],
   "source": [
    "X = df[categorical_features + numeric_features]\n",
    "y = df['target']\n",
    "X_train, X_test, y_train, y_test = train_test_split(X, y, test_size=0.2, random_state=42)"
   ]
  },
  {
   "cell_type": "code",
   "execution_count": 790,
   "id": "8b882906-91fd-4c34-ba67-78ce21e1b2f1",
   "metadata": {
    "tags": []
   },
   "outputs": [
    {
     "name": "stdout",
     "output_type": "stream",
     "text": [
      "0:\tlearn: 61476.9801629\ttotal: 16.4ms\tremaining: 3.26s\n",
      "10:\tlearn: 52821.4747119\ttotal: 60.8ms\tremaining: 1.04s\n",
      "20:\tlearn: 50456.5440517\ttotal: 92.9ms\tremaining: 792ms\n",
      "30:\tlearn: 49421.1649243\ttotal: 126ms\tremaining: 688ms\n",
      "40:\tlearn: 48978.9576043\ttotal: 156ms\tremaining: 605ms\n",
      "50:\tlearn: 48726.2481097\ttotal: 189ms\tremaining: 553ms\n",
      "60:\tlearn: 48524.9662889\ttotal: 218ms\tremaining: 497ms\n",
      "70:\tlearn: 48431.2577541\ttotal: 247ms\tremaining: 448ms\n",
      "80:\tlearn: 48311.8512183\ttotal: 274ms\tremaining: 402ms\n",
      "90:\tlearn: 48233.3153088\ttotal: 298ms\tremaining: 357ms\n",
      "100:\tlearn: 48166.1078866\ttotal: 327ms\tremaining: 320ms\n",
      "110:\tlearn: 48090.0801557\ttotal: 351ms\tremaining: 281ms\n",
      "120:\tlearn: 47990.5558381\ttotal: 381ms\tremaining: 249ms\n",
      "130:\tlearn: 47925.6871278\ttotal: 414ms\tremaining: 218ms\n",
      "140:\tlearn: 47878.3258948\ttotal: 443ms\tremaining: 185ms\n",
      "150:\tlearn: 47793.8164324\ttotal: 471ms\tremaining: 153ms\n",
      "160:\tlearn: 47709.2352093\ttotal: 503ms\tremaining: 122ms\n",
      "170:\tlearn: 47653.3585890\ttotal: 530ms\tremaining: 89.9ms\n",
      "180:\tlearn: 47558.6407322\ttotal: 561ms\tremaining: 58.9ms\n",
      "190:\tlearn: 47504.8448467\ttotal: 595ms\tremaining: 28ms\n",
      "199:\tlearn: 47451.8202364\ttotal: 619ms\tremaining: 0us\n"
     ]
    },
    {
     "data": {
      "text/plain": [
       "<catboost.core.CatBoostRegressor at 0x7fc49fb8eaf0>"
      ]
     },
     "execution_count": 790,
     "metadata": {},
     "output_type": "execute_result"
    }
   ],
   "source": [
    "model = CatBoostRegressor(\n",
    "    iterations=200,\n",
    "    learning_rate=0.1,\n",
    "    depth=3,\n",
    "    cat_features=categorical_features,\n",
    "    verbose=10,\n",
    "    #auto_class_weights='Balanced'\n",
    ")\n",
    "model.fit(X_train, y_train)"
   ]
  },
  {
   "cell_type": "code",
   "execution_count": 792,
   "id": "627ba554-0bca-4127-9a19-b4e6b44c4a9a",
   "metadata": {
    "tags": []
   },
   "outputs": [
    {
     "name": "stdout",
     "output_type": "stream",
     "text": [
      "MSE: 2358618129.785927\n",
      "RMSE: 48565.60644927567\n",
      "MAE: 37314.968497525086\n",
      "R²: 0.40254719017415974\n"
     ]
    }
   ],
   "source": [
    "valuation_r (model, X_test, y_test)"
   ]
  },
  {
   "cell_type": "markdown",
   "id": "cb1a1d13-0828-4f31-9606-071df734f9db",
   "metadata": {
    "tags": []
   },
   "source": [
    "# MultiClass"
   ]
  },
  {
   "cell_type": "code",
   "execution_count": 899,
   "id": "5c887f1e-39bd-42f6-b4f3-c5b6e1e878b5",
   "metadata": {
    "tags": []
   },
   "outputs": [],
   "source": [
    "data = pd.read_csv( './Other/baselines/ds_salaries.csv', sep= ',')\n",
    "data['target'] = data['company_size']\n",
    "data.drop(['salary','salary_currency','company_size'], inplace = True, axis =1)\n",
    "df = data.copy()"
   ]
  },
  {
   "cell_type": "markdown",
   "id": "e45796da-0c5a-4dcd-ad3f-9f41375ea238",
   "metadata": {
    "tags": []
   },
   "source": [
    "<div style=\"background-color: rgba(255, 255, 0, 0.1); color: black; padding: 10px;\">\n",
    "    <h2>Linear</h2>\n",
    "</div>"
   ]
  },
  {
   "cell_type": "markdown",
   "id": "c85f556c-9946-47e2-8a85-3313fe26ce74",
   "metadata": {
    "tags": []
   },
   "source": [
    "### Preparation"
   ]
  },
  {
   "cell_type": "code",
   "execution_count": null,
   "id": "5ae8d6f5-87ae-4e7d-81df-b8f5a371316c",
   "metadata": {
    "tags": []
   },
   "outputs": [],
   "source": [
    "categorical_features = list(set(df.select_dtypes(include=['object']).columns) -set(['target']))\n",
    "numeric_features = list(set(df.columns) - (set(categorical_features) | set(['target'])))\n",
    "\n",
    "# qq для определения преобразующей функци\n",
    "qq_check = convert(df,numeric_features)\n",
    "\n",
    "# преобразования\n",
    "df_tmp = converter(df, ['salary_in_usd'], method='sqrt')\n",
    "df = converter(df_tmp, numeric_features, method='standard')\n",
    "\n",
    "# разделение и конвертация\n",
    "X = df.drop('target', axis=1)\n",
    "y = df['target']\n",
    "X_train, X_test, y_train, y_test = train_test_split(X, y, test_size=0.2, random_state=42, stratify = y)"
   ]
  },
  {
   "cell_type": "code",
   "execution_count": null,
   "id": "203ece9a-b796-4cc3-8fc4-544ca0554207",
   "metadata": {
    "tags": []
   },
   "outputs": [],
   "source": [
    "X_train_encoded, X_test_encoded =  encode(X_train, y_train, X_test, categorical_features, 'onehot')"
   ]
  },
  {
   "cell_type": "markdown",
   "id": "40331b0b-5e42-4175-85f1-3ab42572e099",
   "metadata": {
    "tags": []
   },
   "source": [
    "### Modeling"
   ]
  },
  {
   "cell_type": "code",
   "execution_count": null,
   "id": "125fc87a-7fe8-4984-83c3-076d34d31383",
   "metadata": {
    "tags": []
   },
   "outputs": [],
   "source": [
    "from sklearn.metrics import classification_report, confusion_matrix\n",
    "params = {\n",
    "    'multi_class': 'multinomial',  # количество деревьев в лесу\n",
    "    'solver': 'lbfgs', #'saga'\n",
    "    #'penalty': 'l1', # 'elasticnet' или 'l1'  - только с солвером 'saga' \n",
    "    #'l1_ratio': 0.5, # только с elasticnet и solver = saga\n",
    "    'C': 1.0,  # максимальная глубина дерева\n",
    "    'max_iter': 10  # минимальное количество объектов, необходимое для разделения внутреннего узла\n",
    "}\n",
    "\n",
    "model = LogisticRegression(**params)\n",
    "model.fit(X_train_encoded, y_train)"
   ]
  },
  {
   "cell_type": "markdown",
   "id": "7d35876e-8f44-409a-ab3c-f29528eea917",
   "metadata": {
    "tags": []
   },
   "source": [
    "### Valuation"
   ]
  },
  {
   "cell_type": "code",
   "execution_count": 920,
   "id": "8b4cbf20-284d-4e4b-827f-922de2a887fc",
   "metadata": {
    "tags": []
   },
   "outputs": [
    {
     "name": "stdout",
     "output_type": "stream",
     "text": [
      "              precision    recall  f1-score   support\n",
      "\n",
      "           L       0.48      0.40      0.43        91\n",
      "           M       0.90      0.96      0.93       630\n",
      "           S       0.33      0.10      0.15        30\n",
      "\n",
      "    accuracy                           0.85       751\n",
      "   macro avg       0.57      0.48      0.51       751\n",
      "weighted avg       0.83      0.85      0.84       751\n",
      "\n"
     ]
    }
   ],
   "source": [
    "y_pred_mult = model.predict(X_test_encoded)\n",
    "# probabilities = model.predict_proba(X_test_encoded)\n",
    "# y_pred_mult = [np.argmax(probs) for probs in probabilities]\n",
    "\n",
    "# threshold = 0.6\n",
    "# y_pred_mult_custom_threshold = [np.argmax(probs) if np.max(probs) > threshold else -1 for probs in probabilities]\n",
    "\n",
    "print(classification_report(y_test, y_pred_mult))\n"
   ]
  },
  {
   "cell_type": "code",
   "execution_count": 921,
   "id": "4567a091-1f08-4131-bf85-453b35192e10",
   "metadata": {
    "tags": []
   },
   "outputs": [
    {
     "data": {
      "image/png": "[encoded data removed]",
      "text/plain": [
       "<Figure size 432x288 with 2 Axes>"
      ]
     },
     "metadata": {
      "needs_background": "light"
     },
     "output_type": "display_data"
    }
   ],
   "source": [
    "from sklearn.metrics import confusion_matrix\n",
    "import seaborn as sns\n",
    "import matplotlib.pyplot as plt\n",
    "\n",
    "\n",
    "cm = confusion_matrix(y_test, y_pred_mult, labels=['S', 'M', 'L'])\n",
    "sns.heatmap(cm, annot=True, fmt=\"d\", cmap=\"Blues\", xticklabels=['S', 'M', 'L'], yticklabels=['S', 'M', 'L'])\n",
    "plt.xlabel('Predicted')\n",
    "plt.ylabel('True')\n",
    "plt.title('Confusion Matrix')\n",
    "plt.show()\n"
   ]
  },
  {
   "cell_type": "code",
   "execution_count": 922,
   "id": "bbae6a3d-4621-4b94-b94e-d1279d7b7cd6",
   "metadata": {
    "tags": []
   },
   "outputs": [
    {
     "name": "stdout",
     "output_type": "stream",
     "text": [
      "ROC AUC для класса S: 0.8606796116504855\n",
      "ROC AUC для класса M: 0.8721763085399449\n",
      "ROC AUC для класса L: 0.7767649017649018\n"
     ]
    }
   ],
   "source": [
    "from sklearn.metrics import roc_auc_score\n",
    "from sklearn.preprocessing import label_binarize\n",
    "\n",
    "# Бинаризация меток\n",
    "y_bin = label_binarize(y_test, classes=['S', 'M', 'L'])\n",
    "n_classes = y_bin.shape[1]\n",
    "\n",
    "\n",
    "# Вычисление ROC AUC для каждого класса\n",
    "roc_auc = {}\n",
    "for i in range(n_classes):\n",
    "    roc_auc['Class ' + str(i)] = roc_auc_score(y_bin[:, i], model.predict_proba(X_test_encoded)[:, i])\n",
    "    print(f\"ROC AUC для класса {['S', 'M', 'L'][i]}:\", roc_auc['Class ' + str(i)])\n"
   ]
  },
  {
   "cell_type": "code",
   "execution_count": 923,
   "id": "2aa3f5f2-2bd8-4276-bd2c-d2b8803f5755",
   "metadata": {
    "tags": []
   },
   "outputs": [
    {
     "name": "stdout",
     "output_type": "stream",
     "text": [
      "ROC AUC (One-vs-One): 0.8365402739851108\n"
     ]
    }
   ],
   "source": [
    "roc_auc_ovo = roc_auc_score(y_bin, model.predict_proba(X_test_encoded), multi_class='ovo')\n",
    "print(\"ROC AUC (One-vs-One):\", roc_auc_ovo)\n"
   ]
  },
  {
   "cell_type": "code",
   "execution_count": 924,
   "id": "b8c6e23b-2853-41bf-8322-19db9754d617",
   "metadata": {
    "tags": []
   },
   "outputs": [
    {
     "name": "stdout",
     "output_type": "stream",
     "text": [
      "ROC AUC (One-vs-One): 0.8365402739851108\n"
     ]
    }
   ],
   "source": [
    "roc_auc_ovo = roc_auc_score(y_bin, model.predict_proba(X_test_encoded), multi_class='ovr')\n",
    "print(\"ROC AUC (One-vs-One):\", roc_auc_ovo)"
   ]
  },
  {
   "cell_type": "code",
   "execution_count": null,
   "id": "9c39faf4-bc53-4dea-83b0-1034b4be615a",
   "metadata": {
    "tags": []
   },
   "outputs": [],
   "source": []
  },
  {
   "cell_type": "code",
   "execution_count": null,
   "id": "ebf96153-3f09-4f2d-9f19-253b00bdccc1",
   "metadata": {
    "tags": []
   },
   "outputs": [],
   "source": []
  },
  {
   "cell_type": "code",
   "execution_count": null,
   "id": "bdecd6de-9c4b-43e7-9927-ddc0f8da24f0",
   "metadata": {
    "tags": []
   },
   "outputs": [],
   "source": []
  },
  {
   "cell_type": "code",
   "execution_count": null,
   "id": "4029bb67-5ef3-4e6c-ba69-64a3f397ad88",
   "metadata": {
    "tags": []
   },
   "outputs": [],
   "source": []
  },
  {
   "cell_type": "code",
   "execution_count": null,
   "id": "72ed781f-f649-4947-a211-8cf778f34fa3",
   "metadata": {
    "tags": []
   },
   "outputs": [],
   "source": []
  },
  {
   "cell_type": "code",
   "execution_count": null,
   "id": "a4e39e55-e971-4285-bdb9-40b4fb2e2c5f",
   "metadata": {
    "tags": []
   },
   "outputs": [],
   "source": []
  },
  {
   "cell_type": "code",
   "execution_count": null,
   "id": "f438e5cc-ca76-4b74-b98b-4957b9a58630",
   "metadata": {
    "tags": []
   },
   "outputs": [],
   "source": []
  },
  {
   "cell_type": "code",
   "execution_count": null,
   "id": "4614b6a3-45d3-4a77-b9c1-82dcb6e335ef",
   "metadata": {
    "tags": []
   },
   "outputs": [],
   "source": []
  },
  {
   "cell_type": "code",
   "execution_count": null,
   "id": "6d96c4c8-0179-41f9-9c91-312ed72ccc79",
   "metadata": {
    "tags": []
   },
   "outputs": [],
   "source": []
  },
  {
   "cell_type": "code",
   "execution_count": null,
   "id": "cceb55ef-9ad0-44e8-ad04-e70e3efbc9df",
   "metadata": {},
   "outputs": [],
   "source": []
  },
  {
   "cell_type": "code",
   "execution_count": null,
   "id": "03c9f521-8a21-45b6-a219-e5e62f21bdfa",
   "metadata": {},
   "outputs": [],
   "source": []
  },
  {
   "cell_type": "code",
   "execution_count": null,
   "id": "f018bccc-ead1-4c3e-8848-348f3c5144ae",
   "metadata": {},
   "outputs": [],
   "source": []
  },
  {
   "cell_type": "code",
   "execution_count": null,
   "id": "8ca9121a-be8b-4406-b661-c95ce77eabe0",
   "metadata": {},
   "outputs": [],
   "source": []
  },
  {
   "cell_type": "code",
   "execution_count": null,
   "id": "d7520941-a1d4-4e2d-8fa6-362d7dcd440f",
   "metadata": {},
   "outputs": [],
   "source": []
  },
  {
   "cell_type": "markdown",
   "id": "df1487bb-1b62-4f42-add6-edd1caaf4a1e",
   "metadata": {
    "tags": []
   },
   "source": [
    "<div style=\"background-color: rgba(255, 255, 0, 0.1); color: black; padding: 10px;\">\n",
    "    <h2>RandomForest</h2>\n",
    "</div>"
   ]
  },
  {
   "cell_type": "code",
   "execution_count": null,
   "id": "3b6ce296-47d1-4981-8fc5-14973aeca364",
   "metadata": {},
   "outputs": [],
   "source": []
  },
  {
   "cell_type": "code",
   "execution_count": null,
   "id": "2527ad4e-fd70-44a1-89bb-b68524587d61",
   "metadata": {},
   "outputs": [],
   "source": []
  },
  {
   "cell_type": "code",
   "execution_count": null,
   "id": "ee571cac-9da6-4bbc-96a4-6b98fb8a75e2",
   "metadata": {},
   "outputs": [],
   "source": []
  },
  {
   "cell_type": "code",
   "execution_count": null,
   "id": "fd83a31a-76bc-4b8e-b26a-5fd85ac8d3af",
   "metadata": {},
   "outputs": [],
   "source": []
  },
  {
   "cell_type": "code",
   "execution_count": null,
   "id": "9912bec4-b1bf-403f-8911-a870a893b214",
   "metadata": {},
   "outputs": [],
   "source": []
  },
  {
   "cell_type": "code",
   "execution_count": null,
   "id": "7fce0859-1db0-4d7f-bb98-5b569119ce62",
   "metadata": {},
   "outputs": [],
   "source": []
  },
  {
   "cell_type": "code",
   "execution_count": null,
   "id": "2299b89e-0d1d-4f42-b7ea-a3f9f0bd08db",
   "metadata": {},
   "outputs": [],
   "source": []
  },
  {
   "cell_type": "code",
   "execution_count": null,
   "id": "a8ef8f2a-bda6-49cd-8aa3-ce98b4c65b11",
   "metadata": {},
   "outputs": [],
   "source": []
  },
  {
   "cell_type": "code",
   "execution_count": null,
   "id": "9401e654-00e8-4891-bfc3-4637ef56c0bf",
   "metadata": {},
   "outputs": [],
   "source": []
  },
  {
   "cell_type": "markdown",
   "id": "28e5a635-c3a1-4e20-b673-6d77860b8cec",
   "metadata": {
    "tags": []
   },
   "source": [
    "## Catboost"
   ]
  },
  {
   "cell_type": "code",
   "execution_count": null,
   "id": "d98a2f4e-6857-4133-92a5-15d7b628a13b",
   "metadata": {},
   "outputs": [],
   "source": []
  },
  {
   "cell_type": "code",
   "execution_count": null,
   "id": "4ef9256e-cc66-483f-ad2a-8eccb51123ac",
   "metadata": {},
   "outputs": [],
   "source": []
  },
  {
   "cell_type": "code",
   "execution_count": null,
   "id": "dbbbf835-cb66-460c-a929-c8a4ab7d22b9",
   "metadata": {},
   "outputs": [],
   "source": []
  },
  {
   "cell_type": "code",
   "execution_count": null,
   "id": "bf683b9a-f082-4137-9001-978228416fb8",
   "metadata": {},
   "outputs": [],
   "source": []
  },
  {
   "cell_type": "code",
   "execution_count": null,
   "id": "0d6f1e1b-b637-4b9a-a954-5e81b1d5b57b",
   "metadata": {},
   "outputs": [],
   "source": []
  },
  {
   "cell_type": "code",
   "execution_count": null,
   "id": "23667aa5-0286-429d-a0ed-e6a83076b3fe",
   "metadata": {},
   "outputs": [],
   "source": []
  }
 ],
 "metadata": {
  "kernelspec": {
   "display_name": "artem.kolontay_rec_sys_mirr_a:latest",
   "language": "python",
   "name": "second"
  },
  "language_info": {
   "codemirror_mode": {
    "name": "ipython",
    "version": 3
   },
   "file_extension": ".py",
   "mimetype": "text/x-python",
   "name": "python",
   "nbconvert_exporter": "python",
   "pygments_lexer": "ipython3",
   "version": "3.8.19"
  }
 },
 "nbformat": 4,
 "nbformat_minor": 5
}
