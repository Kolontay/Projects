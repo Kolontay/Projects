{
 "cells": [
  {
   "cell_type": "code",
   "execution_count": 1,
   "id": "c1e5be75",
   "metadata": {},
   "outputs": [],
   "source": [
    "import os\n",
    "\n",
    "import seaborn as sns\n",
    "import matplotlib.pyplot as plt\n",
    "\n",
    "\n",
    "import numpy as np\n",
    "import matplotlib.pyplot as plt\n",
    "import matplotlib.cm as cm\n",
    "import random\n",
    "import seaborn\n",
    "\n"
   ]
  },
  {
   "cell_type": "code",
   "execution_count": null,
   "id": "f748606b",
   "metadata": {},
   "outputs": [],
   "source": []
  },
  {
   "cell_type": "code",
   "execution_count": null,
   "id": "84b3eeeb",
   "metadata": {},
   "outputs": [],
   "source": []
  },
  {
   "cell_type": "code",
   "execution_count": null,
   "id": "e9853be1",
   "metadata": {},
   "outputs": [],
   "source": []
  },
  {
   "cell_type": "code",
   "execution_count": null,
   "id": "e1d2011a",
   "metadata": {},
   "outputs": [],
   "source": [
    "df = pd.read_csv(\"./Iris.csv\")"
   ]
  },
  {
   "cell_type": "code",
   "execution_count": null,
   "id": "4c06dc49",
   "metadata": {},
   "outputs": [],
   "source": [
    "X = df.drop('Species', axis=1)\n",
    "y = df['Species']"
   ]
  },
  {
   "cell_type": "code",
   "execution_count": null,
   "id": "30527190",
   "metadata": {},
   "outputs": [],
   "source": [
    "y = y.replace({'Iris-setosa':1,'Iris-versicolor':0,'Iris-virginica':0})"
   ]
  },
  {
   "cell_type": "code",
   "execution_count": null,
   "id": "ff35b6de",
   "metadata": {},
   "outputs": [],
   "source": [
    "X_train, X_test, y_train, y_test = train_test_split(X, y, test_size=0.2, random_state=42)"
   ]
  },
  {
   "cell_type": "code",
   "execution_count": null,
   "id": "4771b5fb",
   "metadata": {},
   "outputs": [],
   "source": [
    "\n",
    "# Инициализируем модель логистической регрессии с подходом \"один против всех\"\n",
    "model = LogisticRegression(multi_class='ovr', solver='lbfgs')"
   ]
  },
  {
   "cell_type": "code",
   "execution_count": null,
   "id": "fa8d4d3d",
   "metadata": {},
   "outputs": [],
   "source": [
    "# Обучаем модель\n",
    "model.fit(X_train, y_train)"
   ]
  },
  {
   "cell_type": "code",
   "execution_count": null,
   "id": "b842864f",
   "metadata": {},
   "outputs": [],
   "source": [
    "from sklearn.linear_model import LogisticRegression\n",
    "from sklearn.preprocessing import OneHotEncoder\n"
   ]
  },
  {
   "cell_type": "code",
   "execution_count": null,
   "id": "5e518d51",
   "metadata": {},
   "outputs": [],
   "source": [
    "\n",
    "\n",
    "\n",
    "\n",
    "\n",
    "# Предсказываем вероятности классов\n",
    "y_pred_proba = model.predict_proba(X_test)\n",
    "\n",
    "# Предсказываем классы\n",
    "y_pred = model.predict(X_test)\n"
   ]
  },
  {
   "cell_type": "code",
   "execution_count": null,
   "id": "b250ec62",
   "metadata": {},
   "outputs": [],
   "source": [
    "y_pred"
   ]
  },
  {
   "cell_type": "code",
   "execution_count": null,
   "id": "cbf31061",
   "metadata": {},
   "outputs": [],
   "source": []
  },
  {
   "cell_type": "code",
   "execution_count": null,
   "id": "ab8bb1f3",
   "metadata": {},
   "outputs": [],
   "source": []
  },
  {
   "cell_type": "code",
   "execution_count": null,
   "id": "06a10e53",
   "metadata": {},
   "outputs": [],
   "source": []
  },
  {
   "cell_type": "code",
   "execution_count": null,
   "id": "45da4043",
   "metadata": {},
   "outputs": [],
   "source": []
  },
  {
   "cell_type": "code",
   "execution_count": null,
   "id": "82bb4868",
   "metadata": {},
   "outputs": [],
   "source": [
    "import tensorflow as tf\n",
    "from scipy import optimize as op\n",
    "import numpy as np\n",
    "import pandas as pd\n",
    "from sklearn.model_selection import train_test_split\n",
    "from sklearn.metrics import accuracy_score "
   ]
  },
  {
   "cell_type": "code",
   "execution_count": null,
   "id": "b11721c3",
   "metadata": {},
   "outputs": [],
   "source": [
    "iris = pd.read_csv(\"./Iris.csv\")"
   ]
  },
  {
   "cell_type": "code",
   "execution_count": null,
   "id": "f8008b9d",
   "metadata": {},
   "outputs": [],
   "source": [
    "Species = ['Iris-setosa', 'Iris-versicolor', 'Iris-virginica']\n",
    "#Number of examples\n",
    "m = iris.shape[0]\n",
    "#Features\n",
    "n = 4\n",
    "#Number of classes\n",
    "k = 3\n",
    "\n",
    "X = np.ones((m,n + 1))\n",
    "y = np.array((m,1))\n",
    "X[:,1] = iris['PetalLengthCm'].values\n",
    "X[:,2] = iris['PetalWidthCm'].values\n",
    "X[:,3] = iris['SepalLengthCm'].values\n",
    "X[:,4] = iris['SepalWidthCm'].values\n",
    "\n",
    "#Labels\n",
    "y = iris['Species'].values\n",
    "\n",
    "#Mean normalization\n",
    "for j in range(n):\n",
    "    X[:, j] = (X[:, j] - X[:,j].mean())\n",
    "\n",
    "X_train, X_test, y_train, y_test = train_test_split(X, y, test_size = 0.2, random_state = 11)"
   ]
  },
  {
   "cell_type": "code",
   "execution_count": null,
   "id": "72e07f9e",
   "metadata": {},
   "outputs": [],
   "source": [
    "def sigmoid(z):\n",
    "    return 1.0 / (1 + np.exp(-z))\n",
    "\n",
    "#Regularized cost function\n",
    "def regCostFunction(theta, X, y, _lambda = 0.1):\n",
    "    m = len(y)\n",
    "    h = sigmoid(X.dot(theta))\n",
    "    reg = (_lambda/(2 * m)) * np.sum(theta**2)\n",
    "\n",
    "    return (1 / m) * (-y.T.dot(np.log(h)) - (1 - y).T.dot(np.log(1 - h))) + reg\n",
    "\n",
    "#Regularized gradient function\n",
    "def regGradient(theta, X, y, _lambda = 0.1):\n",
    "    m, n = X.shape\n",
    "    theta = theta.reshape((n, 1))\n",
    "    y = y.reshape((m, 1))\n",
    "    h = sigmoid(X.dot(theta))\n",
    "    reg = _lambda * theta /m\n",
    "\n",
    "    return ((1 / m) * X.T.dot(h - y)) + reg\n",
    "\n",
    "#Optimal theta \n",
    "def logisticRegression(X, y, theta):\n",
    "    result = op.minimize(fun = regCostFunction, x0 = theta, args = (X, y),\n",
    "                         method = 'TNC', jac = regGradient)\n",
    "    \n",
    "    return result.x"
   ]
  },
  {
   "cell_type": "code",
   "execution_count": null,
   "id": "ceef2b5d",
   "metadata": {},
   "outputs": [],
   "source": [
    "all_theta = np.zeros((k, n + 1))\n",
    "\n",
    "#One vs all\n",
    "i = 0\n",
    "for flower in Species:\n",
    "    #set the labels in 0 and 1\n",
    "    tmp_y = np.array(y_train == flower, dtype = int)\n",
    "    optTheta = logisticRegression(X_train, tmp_y, np.zeros((n + 1,1)))\n",
    "    all_theta[i] = optTheta\n",
    "    i += 1\n",
    "    \n",
    "#Predictions\n",
    "P = sigmoid(X_test.dot(all_theta.T)) #probability for each flower\n",
    "p = [Species[np.argmax(P[i, :])] for i in range(X_test.shape[0])]\n",
    "\n",
    "print(\"Test Accuracy \", accuracy_score(y_test, p) * 100 , '%')"
   ]
  },
  {
   "cell_type": "code",
   "execution_count": null,
   "id": "7204a51d",
   "metadata": {},
   "outputs": [],
   "source": []
  },
  {
   "cell_type": "code",
   "execution_count": 27,
   "id": "1ce80080",
   "metadata": {},
   "outputs": [],
   "source": [
    "def sigmoid(z):\n",
    "    return 1.0 / (1 + np.exp(-z))\n",
    "\n",
    "#Regularized cost function\n",
    "def regCostFunction(theta, X, y, _lambda = 0.1):\n",
    "    m = len(y)\n",
    "    h = sigmoid(X.dot(theta))\n",
    "\n",
    "    return (1 / m) * (-y.T.dot(np.log(h)) - (1 - y).T.dot(np.log(1 - h)))\n",
    "\n",
    "#Regularized gradient function\n",
    "def regGradient(theta, X, y, _lambda = 0.1):\n",
    "    m, n = X.shape\n",
    "    theta = theta.reshape((n, 1))\n",
    "    y = y.reshape((m, 1))\n",
    "    h = sigmoid(X.dot(theta))\n",
    "\n",
    "    return ((1 / m) * X.T.dot(h - y))\n",
    "\n",
    "#Optimal theta \n",
    "def logisticRegression(X, y, theta):\n",
    "    result = op.minimize(fun = regCostFunction, x0 = theta, args = (X, y),\n",
    "                         method = 'TNC', jac = regGradient)\n",
    "    \n",
    "    return result.x"
   ]
  },
  {
   "cell_type": "code",
   "execution_count": 28,
   "id": "9d7a6e42",
   "metadata": {},
   "outputs": [],
   "source": [
    "Species = ['Iris-setosa', 'Iris-versicolor', 'Iris-virginica']\n",
    "#Number of examples\n",
    "m = iris.shape[0]\n",
    "#Features\n",
    "n = 4\n",
    "#Number of classes\n",
    "k = 3\n",
    "\n",
    "X = np.ones((m,n + 1))\n",
    "y = np.array((m,1))\n",
    "X[:,1] = iris['PetalLengthCm'].values\n",
    "X[:,2] = iris['PetalWidthCm'].values\n",
    "X[:,3] = iris['SepalLengthCm'].values\n",
    "X[:,4] = iris['SepalWidthCm'].values\n",
    "\n",
    "#Labels\n",
    "y = iris['Species'].values\n",
    "\n",
    "#Mean normalization\n",
    "for j in range(n):\n",
    "    X[:, j] = (X[:, j] - X[:,j].mean())\n",
    "\n",
    "X_train, X_test, y_train, y_test = train_test_split(X, y, test_size = 0.2, random_state = 11)"
   ]
  },
  {
   "cell_type": "code",
   "execution_count": null,
   "id": "79d5b792",
   "metadata": {},
   "outputs": [],
   "source": []
  },
  {
   "cell_type": "code",
   "execution_count": null,
   "id": "1e3ad93b",
   "metadata": {},
   "outputs": [],
   "source": []
  },
  {
   "cell_type": "code",
   "execution_count": null,
   "id": "77f49f3e",
   "metadata": {},
   "outputs": [],
   "source": [
    "all_theta = np.zeros((k, n + 1))\n",
    "\n",
    "#One vs all\n",
    "i = 0\n",
    "for flower in Species:\n",
    "    #set the labels in 0 and 1\n",
    "    tmp_y = np.array(y_train == flower, dtype = int)\n",
    "    optTheta = logisticRegression(X_train, tmp_y, np.zeros((n + 1,1)))\n",
    "    all_theta[i] = optTheta\n",
    "    i += 1\n",
    "    \n",
    "#Predictions\n",
    "P = sigmoid(X_test.dot(all_theta.T)) #probability for each flower\n",
    "p = [Species[np.argmax(P[i, :])] for i in range(X_test.shape[0])]\n",
    "\n",
    "print(\"Test Accuracy \", accuracy_score(y_test, p) * 100 , '%')"
   ]
  },
  {
   "cell_type": "code",
   "execution_count": null,
   "id": "0f6f30f9",
   "metadata": {},
   "outputs": [],
   "source": []
  },
  {
   "cell_type": "code",
   "execution_count": 59,
   "id": "b64bd564",
   "metadata": {},
   "outputs": [],
   "source": [
    "import tensorflow as tf\n",
    "from scipy import optimize as op\n",
    "import numpy as np\n",
    "import pandas as pd\n",
    "from sklearn.model_selection import train_test_split\n",
    "from sklearn.metrics import accuracy_score "
   ]
  },
  {
   "cell_type": "code",
   "execution_count": 60,
   "id": "c87de555",
   "metadata": {},
   "outputs": [],
   "source": [
    "iris = pd.read_csv(\"./Iris.csv\")"
   ]
  },
  {
   "cell_type": "code",
   "execution_count": null,
   "id": "581b53e4",
   "metadata": {},
   "outputs": [],
   "source": [
    "m"
   ]
  },
  {
   "cell_type": "code",
   "execution_count": 61,
   "id": "18701aaa",
   "metadata": {},
   "outputs": [],
   "source": [
    "Species = ['Iris-setosa', 'Iris-versicolor', 'Iris-virginica']\n",
    "#Количество наблюдений\n",
    "m = iris.shape[0]\n",
    "#Количество фичей\n",
    "n = 4\n",
    "#Количество классов\n",
    "k = 3\n",
    "\n",
    "X = np.ones((m,n + 1))\n",
    "y = np.array((m,1))\n",
    "X[:,1] = iris['PetalLengthCm'].values\n",
    "X[:,2] = iris['PetalWidthCm'].values\n",
    "X[:,3] = iris['SepalLengthCm'].values\n",
    "X[:,4] = iris['SepalWidthCm'].values\n",
    "\n",
    "#Labels\n",
    "y = iris['Species'].values\n",
    "\n",
    "#Mean normalization\n",
    "for j in range(n):\n",
    "    X[:, j] = (X[:, j] - X[:,j].mean())\n",
    "\n",
    "X_train, X_test, y_train, y_test = train_test_split(X, y, test_size = 0.2, random_state = 11)"
   ]
  },
  {
   "cell_type": "code",
   "execution_count": 64,
   "id": "f0750971",
   "metadata": {},
   "outputs": [],
   "source": [
    "def sigmoid(z):\n",
    "    return 1.0 / (1 + np.exp(-z))\n",
    "\n",
    "#Функция активации\n",
    "def Act_Function(theta, X, y, _lambda = 0.1):\n",
    "    m = len(y)\n",
    "    h = sigmoid(X.dot(theta))\n",
    "\n",
    "    return (1 / m) * np.sum((h-y)**2) # MSE\n",
    "\n",
    "#Функция потерь \n",
    "def regGradient(theta, X, y, _lambda = 0.1):\n",
    "    m, n = X.shape\n",
    "    theta = theta.reshape((n, 1))\n",
    "    y = y.reshape((m, 1))\n",
    "    h = sigmoid(X.dot(theta))\n",
    "\n",
    "    return ((1 / m) * X.T.dot((h - y)*h*(1-h)))\n",
    "\n",
    "#Оптимизатор\n",
    "def logisticRegression(X, y, theta):\n",
    "    result = op.minimize(fun = Act_Function, x0 = theta, args = (X, y),\n",
    "                         method = 'TNC')\n",
    "    \n",
    "    return result.x"
   ]
  },
  {
   "cell_type": "code",
   "execution_count": 65,
   "id": "0a44ae55",
   "metadata": {},
   "outputs": [
    {
     "name": "stdout",
     "output_type": "stream",
     "text": [
      "Test Accuracy  93.33333333333333 %\n"
     ]
    },
    {
     "name": "stderr",
     "output_type": "stream",
     "text": [
      "C:\\Users\\Колонтай\\AppData\\Local\\Temp\\ipykernel_19892\\794439888.py:22: DeprecationWarning: Use of `minimize` with `x0.ndim != 1` is deprecated. Currently, singleton dimensions will be removed from `x0`, but an error will be raised in SciPy 1.11.0.\n",
      "  result = op.minimize(fun = Act_Function, x0 = theta, args = (X, y),\n"
     ]
    }
   ],
   "source": [
    "all_theta = np.zeros((k, n + 1))\n",
    "\n",
    "# One vs all\n",
    "i = 0\n",
    "for flower in Species:\n",
    "    # i-ый цветок 1 и 0 все остальные\n",
    "    tmp_y = np.array(y_train == flower, dtype = int)\n",
    "    optTheta = logisticRegression(X_train, tmp_y, np.zeros((n + 1,1)))\n",
    "    all_theta[i] = optTheta\n",
    "    i += 1\n",
    "    \n",
    "# прогноз\n",
    "P = sigmoid(X_test.dot(all_theta.T)) #вероятности по классу\n",
    "p = [Species[np.argmax(P[i, :])] for i in range(X_test.shape[0])]\n",
    "\n",
    "print(\"Test Accuracy \", accuracy_score(y_test, p) * 100 , '%')"
   ]
  },
  {
   "cell_type": "code",
   "execution_count": 8,
   "id": "6b663c55",
   "metadata": {},
   "outputs": [],
   "source": [
    "theta = np.zeros((n + 1,1))\n",
    "tmp_y = np.array(y_train == 'Iris-setosa', dtype = int)"
   ]
  },
  {
   "cell_type": "code",
   "execution_count": 55,
   "id": "6ec44036",
   "metadata": {},
   "outputs": [
    {
     "data": {
      "text/plain": [
       "(5, 1)"
      ]
     },
     "execution_count": 55,
     "metadata": {},
     "output_type": "execute_result"
    }
   ],
   "source": [
    "theta = np.zeros((n + 1,1))\n",
    "theta.shape"
   ]
  },
  {
   "cell_type": "code",
   "execution_count": 14,
   "id": "bf53e28f",
   "metadata": {},
   "outputs": [],
   "source": [
    "\n",
    "m, n = X_train.shape\n",
    "theta = theta.reshape((n, 1))"
   ]
  },
  {
   "cell_type": "code",
   "execution_count": 15,
   "id": "f010e9d4",
   "metadata": {},
   "outputs": [],
   "source": [
    "tmp_y= tmp_y.reshape((m, 1))"
   ]
  },
  {
   "cell_type": "code",
   "execution_count": 35,
   "id": "9c9153e9",
   "metadata": {},
   "outputs": [
    {
     "data": {
      "text/plain": [
       "24.0"
      ]
     },
     "execution_count": 35,
     "metadata": {},
     "output_type": "execute_result"
    }
   ],
   "source": [
    "(1 / m) * np.sum((h-tmp_y)**2)"
   ]
  },
  {
   "cell_type": "code",
   "execution_count": 20,
   "id": "926a4626",
   "metadata": {},
   "outputs": [
    {
     "data": {
      "text/plain": [
       "array([[ 0.00000000e+00, -2.35866667e+00, -9.98666667e-01,\n",
       "        -7.43333333e-01,  3.50000000e+00],\n",
       "       [ 0.00000000e+00,  1.94133333e+00,  1.10133333e+00,\n",
       "         1.05666667e+00,  3.20000000e+00],\n",
       "       [ 0.00000000e+00,  2.94133333e+00,  8.01333333e-01,\n",
       "         1.85666667e+00,  2.80000000e+00],\n",
       "       [ 0.00000000e+00, -2.35866667e+00, -9.98666667e-01,\n",
       "        -8.43333333e-01,  3.30000000e+00],\n",
       "       [ 0.00000000e+00, -2.15866667e+00, -9.98666667e-01,\n",
       "        -1.14333333e+00,  3.20000000e+00],\n",
       "       [ 0.00000000e+00,  3.14133333e+00,  1.10133333e+00,\n",
       "         1.85666667e+00,  2.60000000e+00],\n",
       "       [ 0.00000000e+00,  2.84133333e+00,  9.01333333e-01,\n",
       "         1.75666667e+00,  3.00000000e+00],\n",
       "       [ 0.00000000e+00,  1.24133333e+00,  5.01333333e-01,\n",
       "         8.56666667e-01,  3.00000000e+00],\n",
       "       [ 0.00000000e+00, -2.45866667e+00, -9.98666667e-01,\n",
       "        -3.43333333e-01,  3.50000000e+00],\n",
       "       [ 0.00000000e+00,  1.34133333e+00,  4.01333333e-01,\n",
       "         1.56666667e-01,  2.70000000e+00],\n",
       "       [ 0.00000000e+00, -2.58666667e-01, -1.98666667e-01,\n",
       "        -8.43333333e-01,  2.00000000e+00],\n",
       "       [ 0.00000000e+00,  2.64133333e+00,  8.01333333e-01,\n",
       "         2.05666667e+00,  3.80000000e+00],\n",
       "       [ 0.00000000e+00, -2.35866667e+00, -8.98666667e-01,\n",
       "        -1.24333333e+00,  3.40000000e+00],\n",
       "       [ 0.00000000e+00,  1.14133333e+00,  3.01333333e-01,\n",
       "         1.05666667e+00,  3.10000000e+00],\n",
       "       [ 0.00000000e+00,  2.04133333e+00,  1.00133333e+00,\n",
       "         6.56666667e-01,  3.00000000e+00],\n",
       "       [ 0.00000000e+00, -7.58666667e-01, -9.86666667e-02,\n",
       "        -7.43333333e-01,  2.50000000e+00],\n",
       "       [ 0.00000000e+00,  8.41333333e-01,  1.01333333e-01,\n",
       "         7.56666667e-01,  2.90000000e+00],\n",
       "       [ 0.00000000e+00, -2.55866667e+00, -9.98666667e-01,\n",
       "        -8.43333333e-01,  3.20000000e+00],\n",
       "       [ 0.00000000e+00,  2.34133333e+00,  7.01333333e-01,\n",
       "         1.55666667e+00,  2.80000000e+00],\n",
       "       [ 0.00000000e+00, -2.15866667e+00, -9.98666667e-01,\n",
       "        -7.43333333e-01,  3.80000000e+00],\n",
       "       [ 0.00000000e+00,  2.14133333e+00,  1.10133333e+00,\n",
       "         9.56666667e-01,  3.20000000e+00],\n",
       "       [ 0.00000000e+00,  1.34133333e+00,  1.10133333e+00,\n",
       "         1.05666667e+00,  3.10000000e+00],\n",
       "       [ 0.00000000e+00,  4.41333333e-01,  3.01333333e-01,\n",
       "         5.66666667e-02,  3.00000000e+00],\n",
       "       [ 0.00000000e+00,  7.41333333e-01,  5.01333333e-01,\n",
       "        -9.43333333e-01,  2.50000000e+00],\n",
       "       [ 0.00000000e+00,  9.41333333e-01,  3.01333333e-01,\n",
       "         8.56666667e-01,  3.10000000e+00],\n",
       "       [ 0.00000000e+00, -2.45866667e+00, -9.98666667e-01,\n",
       "        -1.44333333e+00,  3.20000000e+00],\n",
       "       [ 0.00000000e+00, -2.05866667e+00, -9.98666667e-01,\n",
       "        -4.43333333e-01,  3.40000000e+00],\n",
       "       [ 0.00000000e+00,  8.41333333e-01,  3.01333333e-01,\n",
       "         6.56666667e-01,  2.80000000e+00],\n",
       "       [ 0.00000000e+00, -2.25866667e+00, -7.98666667e-01,\n",
       "        -7.43333333e-01,  3.70000000e+00],\n",
       "       [ 0.00000000e+00, -2.15866667e+00, -7.98666667e-01,\n",
       "        -8.43333333e-01,  3.40000000e+00],\n",
       "       [ 0.00000000e+00,  1.84133333e+00,  2.01333333e-01,\n",
       "         2.56666667e-01,  2.60000000e+00],\n",
       "       [ 0.00000000e+00,  1.74133333e+00,  6.01333333e-01,\n",
       "         6.56666667e-01,  3.00000000e+00],\n",
       "       [ 0.00000000e+00,  1.24133333e+00,  7.01333333e-01,\n",
       "         4.56666667e-01,  2.50000000e+00],\n",
       "       [ 0.00000000e+00, -2.35866667e+00, -9.98666667e-01,\n",
       "        -6.43333333e-01,  3.40000000e+00],\n",
       "       [ 0.00000000e+00, -2.35866667e+00, -9.98666667e-01,\n",
       "        -8.43333333e-01,  3.60000000e+00],\n",
       "       [ 0.00000000e+00, -2.25866667e+00, -7.98666667e-01,\n",
       "        -4.43333333e-01,  3.40000000e+00],\n",
       "       [ 0.00000000e+00,  9.41333333e-01,  1.33333333e-03,\n",
       "         2.56666667e-01,  2.80000000e+00],\n",
       "       [ 0.00000000e+00, -2.25866667e+00, -9.98666667e-01,\n",
       "        -7.43333333e-01,  3.40000000e+00],\n",
       "       [ 0.00000000e+00,  3.41333333e-01,  1.01333333e-01,\n",
       "        -2.43333333e-01,  3.00000000e+00],\n",
       "       [ 0.00000000e+00,  1.14133333e+00,  6.01333333e-01,\n",
       "         4.56666667e-01,  2.70000000e+00],\n",
       "       [ 0.00000000e+00,  2.14133333e+00,  9.01333333e-01,\n",
       "         1.25666667e+00,  3.00000000e+00],\n",
       "       [ 0.00000000e+00,  6.41333333e-01,  1.33333333e-03,\n",
       "        -3.43333333e-01,  2.60000000e+00],\n",
       "       [ 0.00000000e+00, -4.58666667e-01, -1.98666667e-01,\n",
       "        -8.43333333e-01,  2.30000000e+00],\n",
       "       [ 0.00000000e+00,  1.84133333e+00,  1.20133333e+00,\n",
       "         4.56666667e-01,  3.40000000e+00],\n",
       "       [ 0.00000000e+00,  1.34133333e+00,  7.01333333e-01,\n",
       "        -4.33333333e-02,  2.70000000e+00],\n",
       "       [ 0.00000000e+00, -2.35866667e+00, -9.98666667e-01,\n",
       "        -3.43333333e-01,  4.20000000e+00],\n",
       "       [ 0.00000000e+00,  4.41333333e-01,  1.01333333e-01,\n",
       "        -2.43333333e-01,  2.70000000e+00],\n",
       "       [ 0.00000000e+00,  5.41333333e-01,  1.01333333e-01,\n",
       "         3.56666667e-01,  2.90000000e+00],\n",
       "       [ 0.00000000e+00,  2.04133333e+00,  6.01333333e-01,\n",
       "         8.56666667e-01,  2.50000000e+00],\n",
       "       [ 0.00000000e+00,  1.14133333e+00,  6.01333333e-01,\n",
       "         2.56666667e-01,  3.00000000e+00],\n",
       "       [ 0.00000000e+00,  1.84133333e+00,  1.20133333e+00,\n",
       "         8.56666667e-01,  3.10000000e+00],\n",
       "       [ 0.00000000e+00, -2.35866667e+00, -9.98666667e-01,\n",
       "        -1.24333333e+00,  3.20000000e+00],\n",
       "       [ 0.00000000e+00,  2.94133333e+00,  1.00133333e+00,\n",
       "         1.85666667e+00,  3.80000000e+00],\n",
       "       [ 0.00000000e+00, -2.25866667e+00, -9.98666667e-01,\n",
       "        -5.43333333e-01,  3.70000000e+00],\n",
       "       [ 0.00000000e+00, -2.05866667e+00, -8.98666667e-01,\n",
       "        -1.43333333e-01,  3.80000000e+00],\n",
       "       [ 0.00000000e+00, -2.15866667e+00, -5.98666667e-01,\n",
       "        -8.43333333e-01,  3.50000000e+00],\n",
       "       [ 0.00000000e+00, -2.35866667e+00, -8.98666667e-01,\n",
       "        -7.43333333e-01,  3.50000000e+00],\n",
       "       [ 0.00000000e+00,  2.24133333e+00,  1.30133333e+00,\n",
       "         4.56666667e-01,  3.30000000e+00],\n",
       "       [ 0.00000000e+00, -2.45866667e+00, -9.98666667e-01,\n",
       "        -1.44333333e+00,  3.00000000e+00],\n",
       "       [ 0.00000000e+00, -2.15866667e+00, -9.98666667e-01,\n",
       "        -8.43333333e-01,  3.00000000e+00],\n",
       "       [ 0.00000000e+00, -2.25866667e+00, -8.98666667e-01,\n",
       "        -7.43333333e-01,  3.80000000e+00],\n",
       "       [ 0.00000000e+00,  7.41333333e-01,  3.01333333e-01,\n",
       "         1.56666667e-01,  2.90000000e+00],\n",
       "       [ 0.00000000e+00, -2.25866667e+00, -1.09866667e+00,\n",
       "        -6.43333333e-01,  4.10000000e+00],\n",
       "       [ 0.00000000e+00,  1.14133333e+00,  3.01333333e-01,\n",
       "         4.56666667e-01,  2.50000000e+00],\n",
       "       [ 0.00000000e+00,  7.41333333e-01,  3.01333333e-01,\n",
       "         3.56666667e-01,  2.20000000e+00],\n",
       "       [ 0.00000000e+00,  1.74133333e+00,  6.01333333e-01,\n",
       "         5.56666667e-01,  3.10000000e+00],\n",
       "       [ 0.00000000e+00,  6.41333333e-01,  1.01333333e-01,\n",
       "         4.56666667e-01,  2.30000000e+00],\n",
       "       [ 0.00000000e+00, -2.35866667e+00, -9.98666667e-01,\n",
       "        -1.44333333e+00,  2.90000000e+00],\n",
       "       [ 0.00000000e+00, -2.25866667e+00, -9.98666667e-01,\n",
       "        -1.24333333e+00,  3.10000000e+00],\n",
       "       [ 0.00000000e+00, -2.35866667e+00, -9.98666667e-01,\n",
       "        -9.43333333e-01,  3.00000000e+00],\n",
       "       [ 0.00000000e+00,  1.41333333e-01,  2.01333333e-01,\n",
       "        -6.43333333e-01,  2.70000000e+00],\n",
       "       [ 0.00000000e+00,  3.41333333e-01,  1.01333333e-01,\n",
       "        -1.43333333e-01,  2.80000000e+00],\n",
       "       [ 0.00000000e+00,  9.41333333e-01,  2.01333333e-01,\n",
       "         1.15666667e+00,  3.20000000e+00],\n",
       "       [ 0.00000000e+00,  1.94133333e+00,  1.30133333e+00,\n",
       "         8.56666667e-01,  3.30000000e+00],\n",
       "       [ 0.00000000e+00,  2.41333333e-01,  1.01333333e-01,\n",
       "        -3.43333333e-01,  2.30000000e+00],\n",
       "       [ 0.00000000e+00, -2.05866667e+00, -7.98666667e-01,\n",
       "        -4.43333333e-01,  3.90000000e+00],\n",
       "       [ 0.00000000e+00,  4.41333333e-01,  1.33333333e-03,\n",
       "        -1.43333333e-01,  3.00000000e+00],\n",
       "       [ 0.00000000e+00,  1.54133333e+00,  1.10133333e+00,\n",
       "         5.56666667e-01,  3.20000000e+00],\n",
       "       [ 0.00000000e+00, -2.45866667e+00, -8.98666667e-01,\n",
       "        -8.43333333e-01,  3.50000000e+00],\n",
       "       [ 0.00000000e+00,  1.04133333e+00,  6.01333333e-01,\n",
       "         3.56666667e-01,  2.80000000e+00],\n",
       "       [ 0.00000000e+00,  1.94133333e+00,  9.01333333e-01,\n",
       "         8.56666667e-01,  3.30000000e+00],\n",
       "       [ 0.00000000e+00,  7.41333333e-01,  1.01333333e-01,\n",
       "        -1.43333333e-01,  2.80000000e+00],\n",
       "       [ 0.00000000e+00, -2.25866667e+00, -9.98666667e-01,\n",
       "        -8.43333333e-01,  3.40000000e+00],\n",
       "       [ 0.00000000e+00, -2.55866667e+00, -9.98666667e-01,\n",
       "        -4.33333333e-02,  4.00000000e+00],\n",
       "       [ 0.00000000e+00, -1.85866667e+00, -7.98666667e-01,\n",
       "        -7.43333333e-01,  3.80000000e+00],\n",
       "       [ 0.00000000e+00,  1.14133333e+00,  8.01333333e-01,\n",
       "        -2.43333333e-01,  2.80000000e+00],\n",
       "       [ 0.00000000e+00, -4.58666667e-01, -1.98666667e-01,\n",
       "        -9.43333333e-01,  2.40000000e+00],\n",
       "       [ 0.00000000e+00, -2.25866667e+00, -9.98666667e-01,\n",
       "        -4.43333333e-01,  3.70000000e+00],\n",
       "       [ 0.00000000e+00,  2.54133333e+00,  6.01333333e-01,\n",
       "         1.45666667e+00,  2.90000000e+00],\n",
       "       [ 0.00000000e+00,  2.41333333e-01,  1.01333333e-01,\n",
       "        -3.43333333e-01,  2.50000000e+00],\n",
       "       [ 0.00000000e+00,  2.34133333e+00,  1.10133333e+00,\n",
       "         1.85666667e+00,  3.00000000e+00],\n",
       "       [ 0.00000000e+00, -2.25866667e+00, -9.98666667e-01,\n",
       "        -6.43333333e-01,  3.50000000e+00],\n",
       "       [ 0.00000000e+00, -2.05866667e+00, -6.98666667e-01,\n",
       "        -7.43333333e-01,  3.30000000e+00],\n",
       "       [ 0.00000000e+00,  4.41333333e-01,  1.01333333e-01,\n",
       "        -1.43333333e-01,  2.90000000e+00],\n",
       "       [ 0.00000000e+00, -2.58666667e-01, -1.98666667e-01,\n",
       "        -1.43333333e-01,  2.60000000e+00],\n",
       "       [ 0.00000000e+00,  1.04133333e+00,  6.01333333e-01,\n",
       "         1.56666667e-01,  3.00000000e+00],\n",
       "       [ 0.00000000e+00, -1.58666667e-01,  1.01333333e-01,\n",
       "        -2.43333333e-01,  2.90000000e+00],\n",
       "       [ 0.00000000e+00,  1.84133333e+00,  9.01333333e-01,\n",
       "         5.56666667e-01,  2.80000000e+00],\n",
       "       [ 0.00000000e+00,  1.34133333e+00,  1.20133333e+00,\n",
       "        -4.33333333e-02,  2.80000000e+00],\n",
       "       [ 0.00000000e+00,  1.04133333e+00,  6.01333333e-01,\n",
       "         5.66666667e-02,  3.20000000e+00],\n",
       "       [ 0.00000000e+00,  3.41333333e-01, -1.98666667e-01,\n",
       "        -4.33333333e-02,  2.70000000e+00],\n",
       "       [ 0.00000000e+00,  1.64133333e+00,  1.10133333e+00,\n",
       "         3.56666667e-01,  3.40000000e+00],\n",
       "       [ 0.00000000e+00,  1.44133333e+00,  8.01333333e-01,\n",
       "         6.56666667e-01,  3.00000000e+00],\n",
       "       [ 0.00000000e+00, -2.25866667e+00, -1.09866667e+00,\n",
       "        -9.43333333e-01,  3.10000000e+00],\n",
       "       [ 0.00000000e+00,  5.41333333e-01,  1.01333333e-01,\n",
       "         5.56666667e-01,  2.90000000e+00],\n",
       "       [ 0.00000000e+00,  2.04133333e+00,  4.01333333e-01,\n",
       "         1.35666667e+00,  3.00000000e+00],\n",
       "       [ 0.00000000e+00, -2.25866667e+00, -1.09866667e+00,\n",
       "        -9.43333333e-01,  3.10000000e+00],\n",
       "       [ 0.00000000e+00,  1.84133333e+00,  1.00133333e+00,\n",
       "         5.56666667e-01,  2.80000000e+00],\n",
       "       [ 0.00000000e+00,  2.24133333e+00,  6.01333333e-01,\n",
       "         1.35666667e+00,  3.20000000e+00],\n",
       "       [ 0.00000000e+00, -2.35866667e+00, -8.98666667e-01,\n",
       "        -1.04333333e+00,  3.00000000e+00],\n",
       "       [ 0.00000000e+00,  2.41333333e-01,  1.33333333e-03,\n",
       "        -4.33333333e-02,  2.60000000e+00],\n",
       "       [ 0.00000000e+00,  2.34133333e+00,  1.30133333e+00,\n",
       "         1.35666667e+00,  3.60000000e+00],\n",
       "       [ 0.00000000e+00, -1.85866667e+00, -9.98666667e-01,\n",
       "        -1.04333333e+00,  3.40000000e+00],\n",
       "       [ 0.00000000e+00,  1.41333333e-01,  1.33333333e-03,\n",
       "        -4.33333333e-02,  2.70000000e+00],\n",
       "       [ 0.00000000e+00,  2.41333333e-01,  1.01333333e-01,\n",
       "         2.56666667e-01,  2.80000000e+00],\n",
       "       [ 0.00000000e+00,  1.04133333e+00,  2.01333333e-01,\n",
       "         9.56666667e-01,  2.80000000e+00],\n",
       "       [ 0.00000000e+00, -2.65866667e+00, -1.09866667e+00,\n",
       "        -1.54333333e+00,  3.00000000e+00],\n",
       "       [ 0.00000000e+00, -5.86666667e-02, -1.98666667e-01,\n",
       "        -3.43333333e-01,  2.40000000e+00],\n",
       "       [ 0.00000000e+00,  8.41333333e-01,  2.01333333e-01,\n",
       "         2.56666667e-01,  3.00000000e+00],\n",
       "       [ 0.00000000e+00,  4.13333333e-02, -9.86666667e-02,\n",
       "        -3.43333333e-01,  2.40000000e+00]])"
      ]
     },
     "execution_count": 20,
     "metadata": {},
     "output_type": "execute_result"
    }
   ],
   "source": [
    "X_train"
   ]
  },
  {
   "cell_type": "code",
   "execution_count": 17,
   "id": "6960b682",
   "metadata": {},
   "outputs": [],
   "source": [
    "h = sigmoid(X_train.dot(theta))"
   ]
  },
  {
   "cell_type": "code",
   "execution_count": null,
   "id": "23a78bdf",
   "metadata": {},
   "outputs": [],
   "source": []
  },
  {
   "cell_type": "code",
   "execution_count": null,
   "id": "999ab1df",
   "metadata": {},
   "outputs": [],
   "source": []
  },
  {
   "cell_type": "code",
   "execution_count": 36,
   "id": "bde294e7",
   "metadata": {},
   "outputs": [],
   "source": [
    "import sympy as sp"
   ]
  },
  {
   "cell_type": "code",
   "execution_count": 39,
   "id": "93b9b894",
   "metadata": {},
   "outputs": [],
   "source": [
    "\n",
    "def sigmoid(z):\n",
    "    return 1.0 / (1 + np.exp(-z))\n",
    "\n",
    "#Функция активации\n",
    "def Act_Function(theta, X, y, _lambda = 0.1):\n",
    "    m = len(y)\n",
    "    h = sigmoid(X.dot(theta))\n",
    "\n",
    "    return (1 / m) * np.sum((h-y)**2) # MSE\n",
    "\n",
    "#Функция потерь \n",
    "def regGradient(theta, X, y, _lambda = 0.1):\n",
    "    m, n = X.shape\n",
    "    theta = theta.reshape((n, 1))\n",
    "    y = y.reshape((m, 1))\n",
    "    h = sigmoid(X.dot(theta))\n",
    "\n",
    "    return ((1 / m) * X.T.dot((h - y)*h*(1-h)))\n",
    "\n",
    "#Оптимизатор\n",
    "def logisticRegression(X, y, theta):\n",
    "    result = op.minimize(fun = Act_Function, x0 = theta, args = (X, y),\n",
    "                         method = 'TNC')\n",
    "    \n",
    "    return result.x"
   ]
  },
  {
   "cell_type": "code",
   "execution_count": 40,
   "id": "71c245b1",
   "metadata": {},
   "outputs": [],
   "source": []
  },
  {
   "cell_type": "code",
   "execution_count": 57,
   "id": "9c78cadb",
   "metadata": {},
   "outputs": [],
   "source": [
    "theta = sp.symbols('theta0:5')\n",
    "X = sp.MatrixSymbol('X', 120, 5)  # предполагаем матрицу X с 1 строкой и 4 столбцами\n",
    "y = sp.MatrixSymbol('y', 120, 1)\n",
    "i = sp.symbols('i', integer=True)\n",
    "MSE = (1/120) * sp.Sum((X[i, :] * sp.Matrix(theta) - y[i, 0])**2, (i, 0, 119))"
   ]
  },
  {
   "cell_type": "code",
   "execution_count": 58,
   "id": "822ad69e",
   "metadata": {},
   "outputs": [
    {
     "ename": "TypeError",
     "evalue": "Mix of Matrix and Scalar symbols",
     "output_type": "error",
     "traceback": [
      "\u001b[1;31m---------------------------------------------------------------------------\u001b[0m",
      "\u001b[1;31mTypeError\u001b[0m                                 Traceback (most recent call last)",
      "Cell \u001b[1;32mIn[58], line 1\u001b[0m\n\u001b[1;32m----> 1\u001b[0m MSE \u001b[38;5;241m=\u001b[39m (\u001b[38;5;241m1\u001b[39m\u001b[38;5;241m/\u001b[39m\u001b[38;5;241m120\u001b[39m) \u001b[38;5;241m*\u001b[39m sp\u001b[38;5;241m.\u001b[39mSum((X[i, :] \u001b[38;5;241m*\u001b[39m sp\u001b[38;5;241m.\u001b[39mMatrix(theta) \u001b[38;5;241m-\u001b[39m y[i, \u001b[38;5;241m0\u001b[39m])\u001b[38;5;241m*\u001b[39m\u001b[38;5;241m*\u001b[39m\u001b[38;5;241m2\u001b[39m, (i, \u001b[38;5;241m0\u001b[39m, \u001b[38;5;241m119\u001b[39m))\n",
      "File \u001b[1;32mF:\\ANACONDA\\Lib\\site-packages\\sympy\\matrices\\expressions\\matexpr.py:27\u001b[0m, in \u001b[0;36m_sympifyit.<locals>.deco.<locals>.__sympifyit_wrapper\u001b[1;34m(a, b)\u001b[0m\n\u001b[0;32m     25\u001b[0m \u001b[38;5;28;01mtry\u001b[39;00m:\n\u001b[0;32m     26\u001b[0m     b \u001b[38;5;241m=\u001b[39m _sympify(b)\n\u001b[1;32m---> 27\u001b[0m     \u001b[38;5;28;01mreturn\u001b[39;00m func(a, b)\n\u001b[0;32m     28\u001b[0m \u001b[38;5;28;01mexcept\u001b[39;00m SympifyError:\n\u001b[0;32m     29\u001b[0m     \u001b[38;5;28;01mreturn\u001b[39;00m retval\n",
      "File \u001b[1;32mF:\\ANACONDA\\Lib\\site-packages\\sympy\\core\\decorators.py:106\u001b[0m, in \u001b[0;36mcall_highest_priority.<locals>.priority_decorator.<locals>.binary_op_wrapper\u001b[1;34m(self, other)\u001b[0m\n\u001b[0;32m    104\u001b[0m         \u001b[38;5;28;01mif\u001b[39;00m f \u001b[38;5;129;01mis\u001b[39;00m \u001b[38;5;129;01mnot\u001b[39;00m \u001b[38;5;28;01mNone\u001b[39;00m:\n\u001b[0;32m    105\u001b[0m             \u001b[38;5;28;01mreturn\u001b[39;00m f(\u001b[38;5;28mself\u001b[39m)\n\u001b[1;32m--> 106\u001b[0m \u001b[38;5;28;01mreturn\u001b[39;00m func(\u001b[38;5;28mself\u001b[39m, other)\n",
      "File \u001b[1;32mF:\\ANACONDA\\Lib\\site-packages\\sympy\\matrices\\expressions\\matexpr.py:117\u001b[0m, in \u001b[0;36mMatrixExpr.__sub__\u001b[1;34m(self, other)\u001b[0m\n\u001b[0;32m    114\u001b[0m \u001b[38;5;129m@_sympifyit\u001b[39m(\u001b[38;5;124m'\u001b[39m\u001b[38;5;124mother\u001b[39m\u001b[38;5;124m'\u001b[39m, \u001b[38;5;28mNotImplemented\u001b[39m)\n\u001b[0;32m    115\u001b[0m \u001b[38;5;129m@call_highest_priority\u001b[39m(\u001b[38;5;124m'\u001b[39m\u001b[38;5;124m__rsub__\u001b[39m\u001b[38;5;124m'\u001b[39m)\n\u001b[0;32m    116\u001b[0m \u001b[38;5;28;01mdef\u001b[39;00m \u001b[38;5;21m__sub__\u001b[39m(\u001b[38;5;28mself\u001b[39m, other):\n\u001b[1;32m--> 117\u001b[0m     \u001b[38;5;28;01mreturn\u001b[39;00m MatAdd(\u001b[38;5;28mself\u001b[39m, \u001b[38;5;241m-\u001b[39mother)\u001b[38;5;241m.\u001b[39mdoit()\n",
      "File \u001b[1;32mF:\\ANACONDA\\Lib\\site-packages\\sympy\\matrices\\expressions\\matadd.py:58\u001b[0m, in \u001b[0;36mMatAdd.__new__\u001b[1;34m(cls, evaluate, check, _sympify, *args)\u001b[0m\n\u001b[0;32m     56\u001b[0m     \u001b[38;5;28;01mif\u001b[39;00m \u001b[38;5;129;01mnot\u001b[39;00m \u001b[38;5;28many\u001b[39m(\u001b[38;5;28misinstance\u001b[39m(i, MatrixExpr) \u001b[38;5;28;01mfor\u001b[39;00m i \u001b[38;5;129;01min\u001b[39;00m args):\n\u001b[0;32m     57\u001b[0m         \u001b[38;5;28;01mreturn\u001b[39;00m Add\u001b[38;5;241m.\u001b[39mfromiter(args)\n\u001b[1;32m---> 58\u001b[0m     validate(\u001b[38;5;241m*\u001b[39margs)\n\u001b[0;32m     59\u001b[0m \u001b[38;5;28;01melse\u001b[39;00m:\n\u001b[0;32m     60\u001b[0m     sympy_deprecation_warning(\n\u001b[0;32m     61\u001b[0m         \u001b[38;5;124m\"\u001b[39m\u001b[38;5;124mPassing check=False to MatAdd is deprecated and the check argument will be removed in a future version.\u001b[39m\u001b[38;5;124m\"\u001b[39m,\n\u001b[0;32m     62\u001b[0m         deprecated_since_version\u001b[38;5;241m=\u001b[39m\u001b[38;5;124m\"\u001b[39m\u001b[38;5;124m1.11\u001b[39m\u001b[38;5;124m\"\u001b[39m,\n\u001b[0;32m     63\u001b[0m         active_deprecations_target\u001b[38;5;241m=\u001b[39m\u001b[38;5;124m'\u001b[39m\u001b[38;5;124mremove-check-argument-from-matrix-operations\u001b[39m\u001b[38;5;124m'\u001b[39m)\n",
      "File \u001b[1;32mF:\\ANACONDA\\Lib\\site-packages\\sympy\\matrices\\expressions\\matadd.py:114\u001b[0m, in \u001b[0;36mvalidate\u001b[1;34m(*args)\u001b[0m\n\u001b[0;32m    112\u001b[0m \u001b[38;5;28;01mdef\u001b[39;00m \u001b[38;5;21mvalidate\u001b[39m(\u001b[38;5;241m*\u001b[39margs):\n\u001b[0;32m    113\u001b[0m     \u001b[38;5;28;01mif\u001b[39;00m \u001b[38;5;129;01mnot\u001b[39;00m \u001b[38;5;28mall\u001b[39m(arg\u001b[38;5;241m.\u001b[39mis_Matrix \u001b[38;5;28;01mfor\u001b[39;00m arg \u001b[38;5;129;01min\u001b[39;00m args):\n\u001b[1;32m--> 114\u001b[0m         \u001b[38;5;28;01mraise\u001b[39;00m \u001b[38;5;167;01mTypeError\u001b[39;00m(\u001b[38;5;124m\"\u001b[39m\u001b[38;5;124mMix of Matrix and Scalar symbols\u001b[39m\u001b[38;5;124m\"\u001b[39m)\n\u001b[0;32m    116\u001b[0m     A \u001b[38;5;241m=\u001b[39m args[\u001b[38;5;241m0\u001b[39m]\n\u001b[0;32m    117\u001b[0m     \u001b[38;5;28;01mfor\u001b[39;00m B \u001b[38;5;129;01min\u001b[39;00m args[\u001b[38;5;241m1\u001b[39m:]:\n",
      "\u001b[1;31mTypeError\u001b[0m: Mix of Matrix and Scalar symbols"
     ]
    }
   ],
   "source": [
    "\n"
   ]
  },
  {
   "cell_type": "code",
   "execution_count": 46,
   "id": "f9612bf2",
   "metadata": {},
   "outputs": [
    {
     "data": {
      "text/plain": [
       "(120, 5)"
      ]
     },
     "execution_count": 46,
     "metadata": {},
     "output_type": "execute_result"
    }
   ],
   "source": [
    "gradient = [sp.diff(loss_function, th) for th in theta]"
   ]
  }
 ],
 "metadata": {
  "kernelspec": {
   "display_name": "Python 3 (ipykernel)",
   "language": "python",
   "name": "python3"
  },
  "language_info": {
   "codemirror_mode": {
    "name": "ipython",
    "version": 3
   },
   "file_extension": ".py",
   "mimetype": "text/x-python",
   "name": "python",
   "nbconvert_exporter": "python",
   "pygments_lexer": "ipython3",
   "version": "3.11.5"
  }
 },
 "nbformat": 4,
 "nbformat_minor": 5
}
