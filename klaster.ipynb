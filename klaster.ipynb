{
  "nbformat": 4,
  "nbformat_minor": 0,
  "metadata": {
    "colab": {
      "provenance": []
    },
    "kernelspec": {
      "name": "python3",
      "display_name": "Python 3"
    },
    "language_info": {
      "name": "python"
    }
  },
  "cells": [
    {
      "cell_type": "code",
      "source": [
        "Кластеризация"
      ],
      "metadata": {
        "id": "hKaevskNiBL0"
      },
      "execution_count": null,
      "outputs": []
    },
    {
      "cell_type": "code",
      "execution_count": null,
      "metadata": {
        "id": "NgO17AoKh_Co"
      },
      "outputs": [],
      "source": [
        "missing_code = df[df['поле'].isna()]\n",
        "filled_code = df[df['поле'].notna()]\n",
        "\n",
        "# Проходим по строкам с отсутствующими значениями code\n",
        "for i, missing_row in missing_code.iterrows():\n",
        "    # Вычисляем евклидово расстояние от текущей строки до всех строк с заполненным значением code\n",
        "    distances = cdist(\n",
        "        [[missing_row['метрика1'], missing_row['метрика2']]],\n",
        "        filled_code[['метрика1', 'метрика2']],\n",
        "        metric='euclidean'\n",
        "    ).flatten()\n",
        "\n",
        "    # Находим индекс ближайшего соседа\n",
        "    nearest_index = np.argmin(distances)\n",
        "\n",
        "    # Получаем значение code ближайшего соседа\n",
        "    nearest_code = filled_code.iloc[nearest_index]['поле']\n",
        "\n",
        "    # Заполняем пропущенное значение code\n",
        "    df.loc[i, 'поле'] = nearest_code"
      ]
    }
  ]
}